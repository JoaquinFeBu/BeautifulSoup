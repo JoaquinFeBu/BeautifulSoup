{
  "nbformat": 4,
  "nbformat_minor": 0,
  "metadata": {
    "colab": {
      "name": "BeautifulSoupTest.ipynb",
      "provenance": [],
      "collapsed_sections": []
    },
    "kernelspec": {
      "name": "python3",
      "display_name": "Python 3"
    },
    "language_info": {
      "name": "python"
    }
  },
  "cells": [
    {
      "cell_type": "code",
      "execution_count": null,
      "metadata": {
        "id": "uy6fagYZ9qmc"
      },
      "outputs": [],
      "source": [
        "import requests\n",
        "from bs4 import BeautifulSoup as bs"
      ]
    },
    {
      "cell_type": "code",
      "source": [
        "#Load the webpage\n",
        "r = requests.get(\"https://keithgalli.github.io/web-scraping/example.html\")\n",
        "#convert to a beautiful soup object\n",
        "soup = bs(r.content)\n",
        "#Print out our html\n",
        "print(soup.prettify())\n"
      ],
      "metadata": {
        "colab": {
          "base_uri": "https://localhost:8080/"
        },
        "id": "bv22Sd4K9wGO",
        "outputId": "16951d64-0e04-426c-b2ab-112a5e4e3428"
      },
      "execution_count": null,
      "outputs": [
        {
          "output_type": "stream",
          "name": "stdout",
          "text": [
            "<html>\n",
            " <head>\n",
            "  <title>\n",
            "   HTML Example\n",
            "  </title>\n",
            " </head>\n",
            " <body>\n",
            "  <div align=\"middle\">\n",
            "   <h1>\n",
            "    HTML Webpage\n",
            "   </h1>\n",
            "   <p>\n",
            "    Link to more interesting example:\n",
            "    <a href=\"https://keithgalli.github.io/web-scraping/webpage.html\">\n",
            "     keithgalli.github.io/web-scraping/webpage.html\n",
            "    </a>\n",
            "   </p>\n",
            "  </div>\n",
            "  <h2>\n",
            "   A Header\n",
            "  </h2>\n",
            "  <p>\n",
            "   <i>\n",
            "    Some italicized text\n",
            "   </i>\n",
            "  </p>\n",
            "  <h2>\n",
            "   Another header\n",
            "  </h2>\n",
            "  <p id=\"paragraph-id\">\n",
            "   <b>\n",
            "    Some bold text\n",
            "   </b>\n",
            "  </p>\n",
            " </body>\n",
            "</html>\n",
            "\n"
          ]
        }
      ]
    },
    {
      "cell_type": "code",
      "source": [
        "first_header = soup.find(\"h2\")\n",
        "print(first_header)\n",
        "#Here we will print the 1st header with h2 tag"
      ],
      "metadata": {
        "colab": {
          "base_uri": "https://localhost:8080/"
        },
        "id": "yv1qO2db-Fat",
        "outputId": "fbae5d4a-6433-4fde-de38-f4b627dd5530"
      },
      "execution_count": null,
      "outputs": [
        {
          "output_type": "stream",
          "name": "stdout",
          "text": [
            "<h2>A Header</h2>\n"
          ]
        }
      ]
    },
    {
      "cell_type": "code",
      "source": [
        "headers = soup.find_all(\"h2\")\n",
        "print(headers)\n",
        "#Here we find a list of all the headers that start with the h2 tag"
      ],
      "metadata": {
        "colab": {
          "base_uri": "https://localhost:8080/"
        },
        "id": "b6vkv7db-edo",
        "outputId": "ef44642b-f824-47d0-bd6f-d6993299e3b8"
      },
      "execution_count": null,
      "outputs": [
        {
          "output_type": "stream",
          "name": "stdout",
          "text": [
            "[<h2>A Header</h2>, <h2>Another header</h2>]\n"
          ]
        }
      ]
    },
    {
      "cell_type": "code",
      "source": [
        "#Pass in a list of elements to look for; it will always print the first element that appears on the html (here h1)\n",
        "first_header = soup.find([\"h2\", \"h1\"])\n",
        "print(first_header)"
      ],
      "metadata": {
        "colab": {
          "base_uri": "https://localhost:8080/"
        },
        "id": "IFDh60_j-m-Q",
        "outputId": "14a1897b-3f44-4f30-ff7f-5a940cfacfd8"
      },
      "execution_count": null,
      "outputs": [
        {
          "output_type": "stream",
          "name": "stdout",
          "text": [
            "<h1>HTML Webpage</h1>\n"
          ]
        }
      ]
    },
    {
      "cell_type": "code",
      "source": [
        "headers = soup.find_all([\"h1\", \"h2\"]) #This one will print all the headers that come with those tags\n",
        "headers"
      ],
      "metadata": {
        "colab": {
          "base_uri": "https://localhost:8080/"
        },
        "id": "yLNcQ6L1_BdD",
        "outputId": "f141f565-7955-4d95-e2d3-da288f767671"
      },
      "execution_count": null,
      "outputs": [
        {
          "output_type": "execute_result",
          "data": {
            "text/plain": [
              "[<h1>HTML Webpage</h1>, <h2>A Header</h2>, <h2>Another header</h2>]"
            ]
          },
          "metadata": {},
          "execution_count": 7
        }
      ]
    },
    {
      "cell_type": "code",
      "source": [
        "#You can pass in attributes to the find/find all function\n",
        "paragraph = soup.find_all(\"p\", attrs={\"id\":\"paragraph-id\"})\n",
        "paragraph\n",
        "#attrs uses a dictionnary mapping of what we are looking for"
      ],
      "metadata": {
        "colab": {
          "base_uri": "https://localhost:8080/"
        },
        "id": "lDRBZTPh-Ztq",
        "outputId": "069251bf-410a-4369-d94e-da8045797534"
      },
      "execution_count": null,
      "outputs": [
        {
          "output_type": "execute_result",
          "data": {
            "text/plain": [
              "[<p id=\"paragraph-id\"><b>Some bold text</b></p>]"
            ]
          },
          "metadata": {},
          "execution_count": 8
        }
      ]
    },
    {
      "cell_type": "code",
      "source": [
        "#You can nest find/find all calls\n",
        "body = soup.find('body')\n",
        "div = body.find('div')\n",
        "div\n",
        "#Here we are narrowing the search step by step (with div and header)\n",
        "header = div.find('h1')\n",
        "header\n",
        "#This works when working with large html pages"
      ],
      "metadata": {
        "colab": {
          "base_uri": "https://localhost:8080/"
        },
        "id": "Cv1GjTe2Av6b",
        "outputId": "20f7bbba-4a70-4e1c-f6f9-b04e2a063200"
      },
      "execution_count": null,
      "outputs": [
        {
          "output_type": "execute_result",
          "data": {
            "text/plain": [
              "<h1>HTML Webpage</h1>"
            ]
          },
          "metadata": {},
          "execution_count": 9
        }
      ]
    },
    {
      "cell_type": "code",
      "source": [
        "#We can also search for specific strings in out find/find_all calls\n",
        "#Let's say we want to find the string 'Some' !!! careful with capital letters\n",
        "import re\n",
        "paragraphs = soup.find_all(\"p\", string=re.compile(\"Some\"))\n",
        "paragraphs\n",
        "\n",
        "headers = soup.find_all(\"h2\", string = re.compile('(H|h)eader'))\n",
        "headers"
      ],
      "metadata": {
        "colab": {
          "base_uri": "https://localhost:8080/"
        },
        "id": "awC79uYHBJ3s",
        "outputId": "f5fa1d02-fa1b-4a77-d2cc-5b5dfffca2ee"
      },
      "execution_count": null,
      "outputs": [
        {
          "output_type": "execute_result",
          "data": {
            "text/plain": [
              "[<h2>A Header</h2>, <h2>Another header</h2>]"
            ]
          },
          "metadata": {},
          "execution_count": 10
        }
      ]
    },
    {
      "cell_type": "markdown",
      "source": [
        "Select Method on Beautiful Soup (CSS selector)"
      ],
      "metadata": {
        "id": "hnlfWJG7E7gz"
      }
    },
    {
      "cell_type": "code",
      "source": [
        "print(soup.body.prettify())"
      ],
      "metadata": {
        "colab": {
          "base_uri": "https://localhost:8080/"
        },
        "id": "jUp_AvROFaLl",
        "outputId": "425a9d27-854a-474d-f4b2-ba9874820e29"
      },
      "execution_count": null,
      "outputs": [
        {
          "output_type": "stream",
          "name": "stdout",
          "text": [
            "<body>\n",
            " <div align=\"middle\">\n",
            "  <h1>\n",
            "   HTML Webpage\n",
            "  </h1>\n",
            "  <p>\n",
            "   Link to more interesting example:\n",
            "   <a href=\"https://keithgalli.github.io/web-scraping/webpage.html\">\n",
            "    keithgalli.github.io/web-scraping/webpage.html\n",
            "   </a>\n",
            "  </p>\n",
            " </div>\n",
            " <h2>\n",
            "  A Header\n",
            " </h2>\n",
            " <p>\n",
            "  <i>\n",
            "   Some italicized text\n",
            "  </i>\n",
            " </p>\n",
            " <h2>\n",
            "  Another header\n",
            " </h2>\n",
            " <p id=\"paragraph-id\">\n",
            "  <b>\n",
            "   Some bold text\n",
            "  </b>\n",
            " </p>\n",
            "</body>\n",
            "\n"
          ]
        }
      ]
    },
    {
      "cell_type": "code",
      "source": [
        "content = soup.select('p')\n",
        "content"
      ],
      "metadata": {
        "colab": {
          "base_uri": "https://localhost:8080/"
        },
        "id": "m94FlGtOBan-",
        "outputId": "950aca76-1300-45b2-98c2-e28f651abcd0"
      },
      "execution_count": null,
      "outputs": [
        {
          "output_type": "execute_result",
          "data": {
            "text/plain": [
              "[<p>Link to more interesting example: <a href=\"https://keithgalli.github.io/web-scraping/webpage.html\">keithgalli.github.io/web-scraping/webpage.html</a></p>,\n",
              " <p><i>Some italicized text</i></p>,\n",
              " <p id=\"paragraph-id\"><b>Some bold text</b></p>]"
            ]
          },
          "metadata": {},
          "execution_count": 12
        }
      ]
    },
    {
      "cell_type": "code",
      "source": [
        "#from the same content above, if we add div, we will get more specific, it selects the p elements inside div (check documentation on css)\n",
        "content = soup.select(\"div p\")\n",
        "content"
      ],
      "metadata": {
        "colab": {
          "base_uri": "https://localhost:8080/"
        },
        "id": "GFBBWT8lEzqR",
        "outputId": "7e6a881a-5eda-4945-b726-fb1d17ab3a5b"
      },
      "execution_count": null,
      "outputs": [
        {
          "output_type": "execute_result",
          "data": {
            "text/plain": [
              "[<p>Link to more interesting example: <a href=\"https://keithgalli.github.io/web-scraping/webpage.html\">keithgalli.github.io/web-scraping/webpage.html</a></p>]"
            ]
          },
          "metadata": {},
          "execution_count": 13
        }
      ]
    },
    {
      "cell_type": "code",
      "source": [
        "paragraphs = soup.select('h2 ~ p')\n",
        "paragraphs\n",
        "#This will show all the paragraphs that were preceded by h2"
      ],
      "metadata": {
        "colab": {
          "base_uri": "https://localhost:8080/"
        },
        "id": "aq0i8LOmGImT",
        "outputId": "b886dccd-8918-46e7-ff2c-dc56c6d49783"
      },
      "execution_count": null,
      "outputs": [
        {
          "output_type": "execute_result",
          "data": {
            "text/plain": [
              "[<p><i>Some italicized text</i></p>,\n",
              " <p id=\"paragraph-id\"><b>Some bold text</b></p>]"
            ]
          },
          "metadata": {},
          "execution_count": 14
        }
      ]
    },
    {
      "cell_type": "code",
      "source": [
        "bold_text = soup.select(\"p#paragraph-id b\")\n",
        "bold_text\n",
        "# This will show the bold text after id"
      ],
      "metadata": {
        "colab": {
          "base_uri": "https://localhost:8080/"
        },
        "id": "OJrLKougGQFD",
        "outputId": "f87cf14f-ce64-445e-9bcf-9e0532e9512e"
      },
      "execution_count": null,
      "outputs": [
        {
          "output_type": "execute_result",
          "data": {
            "text/plain": [
              "[<b>Some bold text</b>]"
            ]
          },
          "metadata": {},
          "execution_count": 15
        }
      ]
    },
    {
      "cell_type": "markdown",
      "source": [
        "Getting different properties of the HTML"
      ],
      "metadata": {
        "id": "eZv28giUHxTQ"
      }
    },
    {
      "cell_type": "code",
      "source": [
        "header = soup.find(\"h2\")\n",
        "header.string\n",
        "#.string will help us print only what's inside of h2"
      ],
      "metadata": {
        "colab": {
          "base_uri": "https://localhost:8080/",
          "height": 35
        },
        "id": "uoQNeUpQH1E6",
        "outputId": "5d8cda1c-de5a-49dd-a06c-50aefa0d49b9"
      },
      "execution_count": null,
      "outputs": [
        {
          "output_type": "execute_result",
          "data": {
            "text/plain": [
              "'A Header'"
            ],
            "application/vnd.google.colaboratory.intrinsic+json": {
              "type": "string"
            }
          },
          "metadata": {},
          "execution_count": 16
        }
      ]
    },
    {
      "cell_type": "code",
      "source": [
        "div = soup.find(\"div\")\n",
        "print(div.prettify())\n",
        "print(div.get_text())\n",
        "# get_text function will show the text, works when there are several tags inside (check here, div has h1 and p inside)"
      ],
      "metadata": {
        "colab": {
          "base_uri": "https://localhost:8080/"
        },
        "id": "ESgwBDvHH8Ob",
        "outputId": "994eb798-9aba-43a0-adbb-02580be75a1d"
      },
      "execution_count": null,
      "outputs": [
        {
          "output_type": "stream",
          "name": "stdout",
          "text": [
            "<div align=\"middle\">\n",
            " <h1>\n",
            "  HTML Webpage\n",
            " </h1>\n",
            " <p>\n",
            "  Link to more interesting example:\n",
            "  <a href=\"https://keithgalli.github.io/web-scraping/webpage.html\">\n",
            "   keithgalli.github.io/web-scraping/webpage.html\n",
            "  </a>\n",
            " </p>\n",
            "</div>\n",
            "\n",
            "\n",
            "HTML Webpage\n",
            "Link to more interesting example: keithgalli.github.io/web-scraping/webpage.html\n",
            "\n"
          ]
        }
      ]
    },
    {
      "cell_type": "code",
      "source": [
        "# Get a specific property from an element\n",
        "link = soup.find(\"a\")\n",
        "link[\"href\"]\n",
        "paragraphs = soup.select('p#paragraph-id')\n",
        "paragraphs[0]['id']"
      ],
      "metadata": {
        "colab": {
          "base_uri": "https://localhost:8080/",
          "height": 35
        },
        "id": "BVwpHPXmG6FI",
        "outputId": "3537b5a3-d3b0-4c29-ad6e-bd45b7cd8e39"
      },
      "execution_count": null,
      "outputs": [
        {
          "output_type": "execute_result",
          "data": {
            "text/plain": [
              "'paragraph-id'"
            ],
            "application/vnd.google.colaboratory.intrinsic+json": {
              "type": "string"
            }
          },
          "metadata": {},
          "execution_count": 18
        }
      ]
    },
    {
      "cell_type": "markdown",
      "source": [
        "Code navigation"
      ],
      "metadata": {
        "id": "Tuo5OhghJMbH"
      }
    },
    {
      "cell_type": "code",
      "source": [
        "#Path Syntax\n",
        "soup.body.div"
      ],
      "metadata": {
        "colab": {
          "base_uri": "https://localhost:8080/"
        },
        "id": "IaFN2INdJQmN",
        "outputId": "cbbe7394-6393-46de-b1a8-4b15d985e297"
      },
      "execution_count": null,
      "outputs": [
        {
          "output_type": "execute_result",
          "data": {
            "text/plain": [
              "<div align=\"middle\">\n",
              "<h1>HTML Webpage</h1>\n",
              "<p>Link to more interesting example: <a href=\"https://keithgalli.github.io/web-scraping/webpage.html\">keithgalli.github.io/web-scraping/webpage.html</a></p>\n",
              "</div>"
            ]
          },
          "metadata": {},
          "execution_count": 19
        }
      ]
    },
    {
      "cell_type": "code",
      "source": [
        "soup.body.div.h1.string  #Will print the string on h1, very specific"
      ],
      "metadata": {
        "colab": {
          "base_uri": "https://localhost:8080/",
          "height": 35
        },
        "id": "oddiW1lQJUYg",
        "outputId": "a96c3962-f8fb-4dfb-8f44-11dc31c41a6b"
      },
      "execution_count": null,
      "outputs": [
        {
          "output_type": "execute_result",
          "data": {
            "text/plain": [
              "'HTML Webpage'"
            ],
            "application/vnd.google.colaboratory.intrinsic+json": {
              "type": "string"
            }
          },
          "metadata": {},
          "execution_count": 20
        }
      ]
    },
    {
      "cell_type": "code",
      "source": [
        "soup.body.find(\"div\")"
      ],
      "metadata": {
        "colab": {
          "base_uri": "https://localhost:8080/"
        },
        "id": "gpEkqVdOJY9f",
        "outputId": "ebfc8e26-97e1-425e-de36-19f05dbe65c9"
      },
      "execution_count": null,
      "outputs": [
        {
          "output_type": "execute_result",
          "data": {
            "text/plain": [
              "<div align=\"middle\">\n",
              "<h1>HTML Webpage</h1>\n",
              "<p>Link to more interesting example: <a href=\"https://keithgalli.github.io/web-scraping/webpage.html\">keithgalli.github.io/web-scraping/webpage.html</a></p>\n",
              "</div>"
            ]
          },
          "metadata": {},
          "execution_count": 21
        }
      ]
    },
    {
      "cell_type": "code",
      "source": [
        "soup.body.find(\"div\").find_next_siblings()"
      ],
      "metadata": {
        "colab": {
          "base_uri": "https://localhost:8080/"
        },
        "id": "3uj33jusPV4b",
        "outputId": "4df88079-66f2-4e93-c6a0-e05c07a62221"
      },
      "execution_count": null,
      "outputs": [
        {
          "output_type": "execute_result",
          "data": {
            "text/plain": [
              "[<h2>A Header</h2>,\n",
              " <p><i>Some italicized text</i></p>,\n",
              " <h2>Another header</h2>,\n",
              " <p id=\"paragraph-id\"><b>Some bold text</b></p>]"
            ]
          },
          "metadata": {},
          "execution_count": 22
        }
      ]
    },
    {
      "cell_type": "markdown",
      "source": [
        "EXERCISES we will work on the same github page above"
      ],
      "metadata": {
        "id": "SLphOh__QDNZ"
      }
    },
    {
      "cell_type": "code",
      "source": [
        "r = requests.get(\"https://keithgalli.github.io/web-scraping/webpage.html\")\n",
        "webpage = bs(r.content)\n",
        "print(webpage.prettify())"
      ],
      "metadata": {
        "colab": {
          "base_uri": "https://localhost:8080/"
        },
        "id": "sZ7bpBW5PeQn",
        "outputId": "a2db4e94-5b72-4bac-911a-0fdbceeb4f1f"
      },
      "execution_count": null,
      "outputs": [
        {
          "output_type": "stream",
          "name": "stdout",
          "text": [
            "<html>\n",
            " <head>\n",
            "  <title>\n",
            "   Keith Galli's Page\n",
            "  </title>\n",
            "  <style>\n",
            "   table {\n",
            "    border-collapse: collapse;\n",
            "  }\n",
            "  th {\n",
            "    padding:5px;\n",
            "  }\n",
            "  td {\n",
            "    border: 1px solid #ddd;\n",
            "    padding: 5px;\n",
            "  }\n",
            "  tr:nth-child(even) {\n",
            "    background-color: #f2f2f2;\n",
            "  }\n",
            "  th {\n",
            "    padding-top: 12px;\n",
            "    padding-bottom: 12px;\n",
            "    text-align: left;\n",
            "    background-color: #add8e6;\n",
            "    color: black;\n",
            "  }\n",
            "  .block {\n",
            "  width: 100px;\n",
            "  /*float: left;*/\n",
            "    display: inline-block;\n",
            "    zoom: 1;\n",
            "  }\n",
            "  .column {\n",
            "  float: left;\n",
            "  height: 200px;\n",
            "  /*width: 33.33%;*/\n",
            "  padding: 5px;\n",
            "  }\n",
            "\n",
            "  .row::after {\n",
            "    content: \"\";\n",
            "    clear: both;\n",
            "    display: table;\n",
            "  }\n",
            "  </style>\n",
            " </head>\n",
            " <body>\n",
            "  <h1>\n",
            "   Welcome to my page!\n",
            "  </h1>\n",
            "  <img src=\"./images/selfie1.jpg\" width=\"300px\"/>\n",
            "  <h2>\n",
            "   About me\n",
            "  </h2>\n",
            "  <p>\n",
            "   Hi, my name is Keith and I am a YouTuber who focuses on content related to programming, data science, and machine learning!\n",
            "  </p>\n",
            "  <p>\n",
            "   Here is a link to my channel:\n",
            "   <a href=\"https://www.youtube.com/kgmit\">\n",
            "    youtube.com/kgmit\n",
            "   </a>\n",
            "  </p>\n",
            "  <p>\n",
            "   I grew up in the great state of New Hampshire here in the USA. From an early age I always loved math. Around my senior year of high school, my brother first introduced me to programming. I found it a creative way to apply the same type of logical thinking skills that I enjoyed with math. This influenced me to study computer science in college and ultimately create a YouTube channel to share some things that I have learned along the way.\n",
            "  </p>\n",
            "  <h3>\n",
            "   Hobbies\n",
            "  </h3>\n",
            "  <p>\n",
            "   Believe it or not, I don't code 24/7. I love doing all sorts of active things. I like to play ice hockey &amp; table tennis as well as run, hike, skateboard, and snowboard. In addition to sports, I am a board game enthusiast. The two that I've been playing the most recently are\n",
            "   <i>\n",
            "    Settlers of Catan\n",
            "   </i>\n",
            "   and\n",
            "   <i>\n",
            "    Othello\n",
            "   </i>\n",
            "   .\n",
            "  </p>\n",
            "  <h3>\n",
            "   Fun Facts\n",
            "  </h3>\n",
            "  <ul class=\"fun-facts\">\n",
            "   <li>\n",
            "    Owned my dream car in high school\n",
            "    <a href=\"#footer\">\n",
            "     <sup>\n",
            "      1\n",
            "     </sup>\n",
            "    </a>\n",
            "   </li>\n",
            "   <li>\n",
            "    Middle name is Ronald\n",
            "   </li>\n",
            "   <li>\n",
            "    Never had been on a plane until college\n",
            "   </li>\n",
            "   <li>\n",
            "    Dunkin Donuts coffee is better than Starbucks\n",
            "   </li>\n",
            "   <li>\n",
            "    A favorite book series of mine is\n",
            "    <i>\n",
            "     Ender's Game\n",
            "    </i>\n",
            "   </li>\n",
            "   <li>\n",
            "    Current video game of choice is\n",
            "    <i>\n",
            "     Rocket League\n",
            "    </i>\n",
            "   </li>\n",
            "   <li>\n",
            "    The band that I've seen the most times live is the\n",
            "    <i>\n",
            "     Zac Brown Band\n",
            "    </i>\n",
            "   </li>\n",
            "  </ul>\n",
            "  <h2>\n",
            "   Social Media\n",
            "  </h2>\n",
            "  I encourage you to check out my content on all social media platforms\n",
            "  <br/>\n",
            "  <ul class=\"socials\">\n",
            "   <li class=\"social instagram\">\n",
            "    <b>\n",
            "     Instagram:\n",
            "    </b>\n",
            "    <a href=\"https://www.instagram.com/keithgalli/\">\n",
            "     https://www.instagram.com/keithgalli/\n",
            "    </a>\n",
            "   </li>\n",
            "   <li class=\"social twitter\">\n",
            "    <b>\n",
            "     Twitter:\n",
            "    </b>\n",
            "    <a href=\"https://twitter.com/keithgalli\">\n",
            "     https://twitter.com/keithgalli\n",
            "    </a>\n",
            "   </li>\n",
            "   <li class=\"social linkedin\">\n",
            "    <b>\n",
            "     LinkedIn:\n",
            "    </b>\n",
            "    <a href=\"https://www.linkedin.com/in/keithgalli/\">\n",
            "     https://www.linkedin.com/in/keithgalli/\n",
            "    </a>\n",
            "   </li>\n",
            "   <li class=\"social tiktok\">\n",
            "    <b>\n",
            "     TikTok:\n",
            "    </b>\n",
            "    <a href=\"https://www.tiktok.com/@keithgalli\">\n",
            "     https://www.tiktok.com/@keithgalli\n",
            "    </a>\n",
            "   </li>\n",
            "  </ul>\n",
            "  <h2>\n",
            "   Photos\n",
            "  </h2>\n",
            "  Here are a few photos from a trip to italy I took last year\n",
            "  <div class=\"row\">\n",
            "   <div class=\"column\">\n",
            "    <img alt=\"Lake Como\" src=\"images/italy/lake_como.jpg\" style=\"height:100%\"/>\n",
            "   </div>\n",
            "   <div class=\"column\">\n",
            "    <img alt=\"Pontevecchio, Florence\" src=\"images/italy/pontevecchio.jpg\" style=\"height:100%\"/>\n",
            "   </div>\n",
            "   <div class=\"column\">\n",
            "    <img alt=\"Riomaggiore, Cinque de Terre\" src=\"images/italy/riomaggiore.jpg\" style=\"height:100%\"/>\n",
            "   </div>\n",
            "  </div>\n",
            "  <div>\n",
            "  </div>\n",
            "  <h2>\n",
            "   Table\n",
            "  </h2>\n",
            "  My MIT hockey stats :)\n",
            "  <br/>\n",
            "  <table class=\"hockey-stats\">\n",
            "   <thead>\n",
            "    <tr>\n",
            "     <th class=\"season\" data-sort=\"\">\n",
            "      S\n",
            "     </th>\n",
            "     <th class=\"team\" data-sort=\"team\">\n",
            "      Team\n",
            "     </th>\n",
            "     <th class=\"league\" data-sort=\"league\">\n",
            "      League\n",
            "     </th>\n",
            "     <th class=\"regular gp\" data-sort=\"gp\">\n",
            "      GP\n",
            "     </th>\n",
            "     <th class=\"regular g\" data-sort=\"g\">\n",
            "      G\n",
            "     </th>\n",
            "     <th class=\"regular a\" data-sort=\"a\">\n",
            "      A\n",
            "     </th>\n",
            "     <th class=\"regular tp\" data-sort=\"tp\">\n",
            "      TP\n",
            "     </th>\n",
            "     <th class=\"regular pim\" data-sort=\"pim\">\n",
            "      PIM\n",
            "     </th>\n",
            "     <th class=\"regular pm\" data-sort=\"pm\">\n",
            "      +/-\n",
            "     </th>\n",
            "     <th class=\"separator\">\n",
            "     </th>\n",
            "     <th class=\"postseason\">\n",
            "      POST\n",
            "     </th>\n",
            "     <th class=\"postseason gp\" data-sort=\"playoffs-gp\">\n",
            "      GP\n",
            "     </th>\n",
            "     <th class=\"postseason g\" data-sort=\"playoffs-g\">\n",
            "      G\n",
            "     </th>\n",
            "     <th class=\"postseason a\" data-sort=\"playoffs-a\">\n",
            "      A\n",
            "     </th>\n",
            "     <th class=\"postseason tp\" data-sort=\"playoffs-tp\">\n",
            "      TP\n",
            "     </th>\n",
            "     <th class=\"postseason pim\" data-sort=\"playoffs-pim\">\n",
            "      PIM\n",
            "     </th>\n",
            "     <th class=\"postseason pm\" data-sort=\"playoffs-pm\">\n",
            "      +/-\n",
            "     </th>\n",
            "    </tr>\n",
            "   </thead>\n",
            "   <tbody>\n",
            "    <tr class=\"team-continent-NA \">\n",
            "     <td class=\"season sorted\">\n",
            "      2014-15\n",
            "     </td>\n",
            "     <td class=\"team\">\n",
            "      <i>\n",
            "       <img src=\"images/flag.png\"/>\n",
            "      </i>\n",
            "      <span class=\"txt-blue\">\n",
            "       <a href=\"https://www.eliteprospects.com/team/10263/mit-mass.-inst.-of-tech./2014-2015?tab=stats\">\n",
            "        MIT (Mass. Inst. of Tech.)\n",
            "       </a>\n",
            "      </span>\n",
            "     </td>\n",
            "     <td class=\"league\">\n",
            "      <a href=\"https://www.eliteprospects.com/league/acha-ii/stats/2014-2015\">\n",
            "       ACHA II\n",
            "      </a>\n",
            "     </td>\n",
            "     <td class=\"regular gp\">\n",
            "      17\n",
            "     </td>\n",
            "     <td class=\"regular g\">\n",
            "      3\n",
            "     </td>\n",
            "     <td class=\"regular a\">\n",
            "      9\n",
            "     </td>\n",
            "     <td class=\"regular tp\">\n",
            "      12\n",
            "     </td>\n",
            "     <td class=\"regular pim\">\n",
            "      20\n",
            "     </td>\n",
            "     <td class=\"regular pm\">\n",
            "     </td>\n",
            "     <td class=\"separator\">\n",
            "      |\n",
            "     </td>\n",
            "     <td class=\"postseason\">\n",
            "      <a href=\"https://www.eliteprospects.com/league/acha-ii/stats/2014-2015\">\n",
            "      </a>\n",
            "     </td>\n",
            "     <td class=\"postseason gp\">\n",
            "     </td>\n",
            "     <td class=\"postseason g\">\n",
            "     </td>\n",
            "     <td class=\"postseason a\">\n",
            "     </td>\n",
            "     <td class=\"postseason tp\">\n",
            "     </td>\n",
            "     <td class=\"postseason pim\">\n",
            "     </td>\n",
            "     <td class=\"postseason pm\">\n",
            "     </td>\n",
            "    </tr>\n",
            "    <tr class=\"team-continent-NA \">\n",
            "     <td class=\"season sorted\">\n",
            "      2015-16\n",
            "     </td>\n",
            "     <td class=\"team\">\n",
            "      <i>\n",
            "       <img src=\"images/flag.png\"/>\n",
            "      </i>\n",
            "      <span class=\"txt-blue\">\n",
            "       <a href=\"https://www.eliteprospects.com/team/10263/mit-mass.-inst.-of-tech./2015-2016?tab=stats\">\n",
            "        MIT (Mass. Inst. of Tech.)\n",
            "       </a>\n",
            "      </span>\n",
            "     </td>\n",
            "     <td class=\"league\">\n",
            "      <a href=\"https://www.eliteprospects.com/league/acha-ii/stats/2015-2016\">\n",
            "       ACHA II\n",
            "      </a>\n",
            "     </td>\n",
            "     <td class=\"regular gp\">\n",
            "      9\n",
            "     </td>\n",
            "     <td class=\"regular g\">\n",
            "      1\n",
            "     </td>\n",
            "     <td class=\"regular a\">\n",
            "      1\n",
            "     </td>\n",
            "     <td class=\"regular tp\">\n",
            "      2\n",
            "     </td>\n",
            "     <td class=\"regular pim\">\n",
            "      2\n",
            "     </td>\n",
            "     <td class=\"regular pm\">\n",
            "     </td>\n",
            "     <td class=\"separator\">\n",
            "      |\n",
            "     </td>\n",
            "     <td class=\"postseason\">\n",
            "      <a href=\"https://www.eliteprospects.com/league/acha-ii/stats/2015-2016\">\n",
            "      </a>\n",
            "     </td>\n",
            "     <td class=\"postseason gp\">\n",
            "     </td>\n",
            "     <td class=\"postseason g\">\n",
            "     </td>\n",
            "     <td class=\"postseason a\">\n",
            "     </td>\n",
            "     <td class=\"postseason tp\">\n",
            "     </td>\n",
            "     <td class=\"postseason pim\">\n",
            "     </td>\n",
            "     <td class=\"postseason pm\">\n",
            "     </td>\n",
            "    </tr>\n",
            "    <tr class=\"team-continent-NA \">\n",
            "     <td class=\"season sorted\">\n",
            "      2016-17\n",
            "     </td>\n",
            "     <td class=\"team\">\n",
            "      <i>\n",
            "       <img src=\"images/flag.png\"/>\n",
            "      </i>\n",
            "      <span class=\"txt-blue\">\n",
            "       <a href=\"https://www.eliteprospects.com/team/10263/mit-mass.-inst.-of-tech./2016-2017?tab=stats\">\n",
            "        MIT (Mass. Inst. of Tech.)\n",
            "       </a>\n",
            "      </span>\n",
            "     </td>\n",
            "     <td class=\"league\">\n",
            "      <a href=\"https://www.eliteprospects.com/league/acha-ii/stats/2016-2017\">\n",
            "       ACHA II\n",
            "      </a>\n",
            "     </td>\n",
            "     <td class=\"regular gp\">\n",
            "      12\n",
            "     </td>\n",
            "     <td class=\"regular g\">\n",
            "      5\n",
            "     </td>\n",
            "     <td class=\"regular a\">\n",
            "      5\n",
            "     </td>\n",
            "     <td class=\"regular tp\">\n",
            "      10\n",
            "     </td>\n",
            "     <td class=\"regular pim\">\n",
            "      8\n",
            "     </td>\n",
            "     <td class=\"regular pm\">\n",
            "      0\n",
            "     </td>\n",
            "     <td class=\"separator\">\n",
            "      |\n",
            "     </td>\n",
            "     <td class=\"postseason\">\n",
            "     </td>\n",
            "     <td class=\"postseason gp\">\n",
            "     </td>\n",
            "     <td class=\"postseason g\">\n",
            "     </td>\n",
            "     <td class=\"postseason a\">\n",
            "     </td>\n",
            "     <td class=\"postseason tp\">\n",
            "     </td>\n",
            "     <td class=\"postseason pim\">\n",
            "     </td>\n",
            "     <td class=\"postseason pm\">\n",
            "     </td>\n",
            "    </tr>\n",
            "    <tr class=\"team-continent-EU \">\n",
            "     <td class=\"season sorted\">\n",
            "      2017-18\n",
            "     </td>\n",
            "     <td class=\"team\">\n",
            "      Did not play\n",
            "     </td>\n",
            "     <td class=\"league\">\n",
            "      <a href=\"https://www.eliteprospects.com/stats\">\n",
            "      </a>\n",
            "     </td>\n",
            "     <td class=\"regular gp\">\n",
            "     </td>\n",
            "     <td class=\"regular g\">\n",
            "     </td>\n",
            "     <td class=\"regular a\">\n",
            "     </td>\n",
            "     <td class=\"regular tp\">\n",
            "     </td>\n",
            "     <td class=\"regular pim\">\n",
            "     </td>\n",
            "     <td class=\"regular pm\">\n",
            "     </td>\n",
            "     <td class=\"separator\">\n",
            "      |\n",
            "     </td>\n",
            "     <td class=\"postseason\">\n",
            "      <a href=\"https://www.eliteprospects.com/stats\">\n",
            "      </a>\n",
            "     </td>\n",
            "     <td class=\"postseason gp\">\n",
            "     </td>\n",
            "     <td class=\"postseason g\">\n",
            "     </td>\n",
            "     <td class=\"postseason a\">\n",
            "     </td>\n",
            "     <td class=\"postseason tp\">\n",
            "     </td>\n",
            "     <td class=\"postseason pim\">\n",
            "     </td>\n",
            "     <td class=\"postseason pm\">\n",
            "     </td>\n",
            "    </tr>\n",
            "    <tr class=\"team-continent-NA \">\n",
            "     <td class=\"season sorted\">\n",
            "      2018-19\n",
            "     </td>\n",
            "     <td class=\"team\">\n",
            "      <i>\n",
            "       <img src=\"images/flag.png\"/>\n",
            "      </i>\n",
            "      <span class=\"txt-blue\">\n",
            "       <a href=\"https://www.eliteprospects.com/team/10263/mit-mass.-inst.-of-tech./2018-2019?tab=stats\">\n",
            "        MIT (Mass. Inst. of Tech.)\n",
            "       </a>\n",
            "      </span>\n",
            "     </td>\n",
            "     <td class=\"league\">\n",
            "      <a href=\"https://www.eliteprospects.com/league/acha-iii/stats/2018-2019\">\n",
            "       ACHA III\n",
            "      </a>\n",
            "     </td>\n",
            "     <td class=\"regular gp\">\n",
            "      8\n",
            "     </td>\n",
            "     <td class=\"regular g\">\n",
            "      5\n",
            "     </td>\n",
            "     <td class=\"regular a\">\n",
            "      10\n",
            "     </td>\n",
            "     <td class=\"regular tp\">\n",
            "      15\n",
            "     </td>\n",
            "     <td class=\"regular pim\">\n",
            "      8\n",
            "     </td>\n",
            "     <td class=\"regular pm\">\n",
            "     </td>\n",
            "     <td class=\"separator\">\n",
            "      |\n",
            "     </td>\n",
            "     <td class=\"postseason\">\n",
            "      <a href=\"https://www.eliteprospects.com/league/acha-iii/stats/2018-2019\">\n",
            "      </a>\n",
            "     </td>\n",
            "     <td class=\"postseason gp\">\n",
            "     </td>\n",
            "     <td class=\"postseason g\">\n",
            "     </td>\n",
            "     <td class=\"postseason a\">\n",
            "     </td>\n",
            "     <td class=\"postseason tp\">\n",
            "     </td>\n",
            "     <td class=\"postseason pim\">\n",
            "     </td>\n",
            "     <td class=\"postseason pm\">\n",
            "     </td>\n",
            "    </tr>\n",
            "   </tbody>\n",
            "  </table>\n",
            "  <h2>\n",
            "   Mystery Message Challenge!\n",
            "  </h2>\n",
            "  <p>\n",
            "   If you scrape the links below grabbing the &lt;p&gt; tag with id=\"secret-word\", you'll discover a secret message :)\n",
            "  </p>\n",
            "  <div width=\"50%\">\n",
            "   <div align=\"left\" class=\"block\">\n",
            "    <ul>\n",
            "     <li>\n",
            "      <a href=\"challenge/file_1.html\">\n",
            "       File 1\n",
            "      </a>\n",
            "     </li>\n",
            "     <li>\n",
            "      <a href=\"challenge/file_2.html\">\n",
            "       File 2\n",
            "      </a>\n",
            "     </li>\n",
            "     <li>\n",
            "      <a href=\"challenge/file_3.html\">\n",
            "       File 3\n",
            "      </a>\n",
            "     </li>\n",
            "     <li>\n",
            "      <a href=\"challenge/file_4.html\">\n",
            "       File 4\n",
            "      </a>\n",
            "     </li>\n",
            "     <li>\n",
            "      <a href=\"challenge/file_5.html\">\n",
            "       File 5\n",
            "      </a>\n",
            "     </li>\n",
            "    </ul>\n",
            "   </div>\n",
            "   <div align=\"center\" class=\"block\">\n",
            "    <ul>\n",
            "     <li>\n",
            "      <a href=\"challenge/file_6.html\">\n",
            "       File 6\n",
            "      </a>\n",
            "     </li>\n",
            "     <li>\n",
            "      <a href=\"challenge/file_7.html\">\n",
            "       File 7\n",
            "      </a>\n",
            "     </li>\n",
            "     <li>\n",
            "      <a href=\"challenge/file_8.html\">\n",
            "       File 8\n",
            "      </a>\n",
            "     </li>\n",
            "     <li>\n",
            "      <a href=\"challenge/file_9.html\">\n",
            "       File 9\n",
            "      </a>\n",
            "     </li>\n",
            "     <li>\n",
            "      <a href=\"challenge/file_10.html\">\n",
            "       File 10\n",
            "      </a>\n",
            "     </li>\n",
            "    </ul>\n",
            "   </div>\n",
            "  </div>\n",
            "  <h2>\n",
            "   Footnotes\n",
            "  </h2>\n",
            "  <p id=\"footer\">\n",
            "   1. This was actually a minivan that I named Debora. Maybe not my dream car, but I loved her nonetheless.\n",
            "  </p>\n",
            " </body>\n",
            "</html>\n"
          ]
        }
      ]
    },
    {
      "cell_type": "code",
      "source": [
        "#Grab all of the social links from the webpage (3 parts)\n",
        "#This is my try; not correct but getting close, check the other 2\n",
        "webpage.body.find_all('ul')"
      ],
      "metadata": {
        "colab": {
          "base_uri": "https://localhost:8080/"
        },
        "id": "OxOsK_VnJXv8",
        "outputId": "f65260b1-27cb-4a38-d74b-71d6e114e26b"
      },
      "execution_count": null,
      "outputs": [
        {
          "output_type": "execute_result",
          "data": {
            "text/plain": [
              "[<ul class=\"fun-facts\">\n",
              " <li>Owned my dream car in high school <a href=\"#footer\"><sup>1</sup></a></li>\n",
              " <li>Middle name is Ronald</li>\n",
              " <li>Never had been on a plane until college</li>\n",
              " <li>Dunkin Donuts coffee is better than Starbucks</li>\n",
              " <li>A favorite book series of mine is <i>Ender's Game</i></li>\n",
              " <li>Current video game of choice is <i>Rocket League</i></li>\n",
              " <li>The band that I've seen the most times live is the <i>Zac Brown Band</i></li>\n",
              " </ul>, <ul class=\"socials\">\n",
              " <li class=\"social instagram\"><b>Instagram: </b><a href=\"https://www.instagram.com/keithgalli/\">https://www.instagram.com/keithgalli/</a></li>\n",
              " <li class=\"social twitter\"><b>Twitter: </b><a href=\"https://twitter.com/keithgalli\">https://twitter.com/keithgalli</a></li>\n",
              " <li class=\"social linkedin\"><b>LinkedIn: </b><a href=\"https://www.linkedin.com/in/keithgalli/\">https://www.linkedin.com/in/keithgalli/</a></li>\n",
              " <li class=\"social tiktok\"><b>TikTok: </b><a href=\"https://www.tiktok.com/@keithgalli\">https://www.tiktok.com/@keithgalli</a></li>\n",
              " </ul>, <ul>\n",
              " <li><a href=\"challenge/file_1.html\">File 1</a></li>\n",
              " <li><a href=\"challenge/file_2.html\">File 2</a></li>\n",
              " <li><a href=\"challenge/file_3.html\">File 3</a></li>\n",
              " <li><a href=\"challenge/file_4.html\">File 4</a></li>\n",
              " <li><a href=\"challenge/file_5.html\">File 5</a></li>\n",
              " </ul>, <ul>\n",
              " <li><a href=\"challenge/file_6.html\">File 6</a></li>\n",
              " <li><a href=\"challenge/file_7.html\">File 7</a></li>\n",
              " <li><a href=\"challenge/file_8.html\">File 8</a></li>\n",
              " <li><a href=\"challenge/file_9.html\">File 9</a></li>\n",
              " <li><a href=\"challenge/file_10.html\">File 10</a></li>\n",
              " </ul>]"
            ]
          },
          "metadata": {},
          "execution_count": 24
        }
      ]
    },
    {
      "cell_type": "code",
      "source": [
        "#Another way to do it\n",
        "links = webpage.select('ul.socials a')\n",
        "links"
      ],
      "metadata": {
        "colab": {
          "base_uri": "https://localhost:8080/"
        },
        "id": "NdykGa25efHv",
        "outputId": "10407dc8-e207-40e7-f5bd-736fee290b3e"
      },
      "execution_count": null,
      "outputs": [
        {
          "output_type": "execute_result",
          "data": {
            "text/plain": [
              "[<a href=\"https://www.instagram.com/keithgalli/\">https://www.instagram.com/keithgalli/</a>,\n",
              " <a href=\"https://twitter.com/keithgalli\">https://twitter.com/keithgalli</a>,\n",
              " <a href=\"https://www.linkedin.com/in/keithgalli/\">https://www.linkedin.com/in/keithgalli/</a>,\n",
              " <a href=\"https://www.tiktok.com/@keithgalli\">https://www.tiktok.com/@keithgalli</a>]"
            ]
          },
          "metadata": {},
          "execution_count": 25
        }
      ]
    },
    {
      "cell_type": "code",
      "source": [
        "actual_links = [link['href'] for link in links]\n",
        "actual_links"
      ],
      "metadata": {
        "colab": {
          "base_uri": "https://localhost:8080/"
        },
        "id": "jlnytNgHg5Lf",
        "outputId": "07921d2d-4643-4cd9-9d1d-f58a5d231ed9"
      },
      "execution_count": null,
      "outputs": [
        {
          "output_type": "execute_result",
          "data": {
            "text/plain": [
              "['https://www.instagram.com/keithgalli/',\n",
              " 'https://twitter.com/keithgalli',\n",
              " 'https://www.linkedin.com/in/keithgalli/',\n",
              " 'https://www.tiktok.com/@keithgalli']"
            ]
          },
          "metadata": {},
          "execution_count": 26
        }
      ]
    },
    {
      "cell_type": "code",
      "source": [
        "#Last way to do it\n",
        "ulist = webpage.find(\"ul\", attrs={\"class\": \"socials\"})\n",
        "links2 = ulist.find_all('a')\n",
        "actual_links2 = [link['href'] for link in links]\n",
        "actual_links2"
      ],
      "metadata": {
        "colab": {
          "base_uri": "https://localhost:8080/"
        },
        "id": "APS3hhsPhBvq",
        "outputId": "2ca1db32-4ebb-46ac-842a-8c5ee18319d6"
      },
      "execution_count": null,
      "outputs": [
        {
          "output_type": "execute_result",
          "data": {
            "text/plain": [
              "['https://www.instagram.com/keithgalli/',\n",
              " 'https://twitter.com/keithgalli',\n",
              " 'https://www.linkedin.com/in/keithgalli/',\n",
              " 'https://www.tiktok.com/@keithgalli']"
            ]
          },
          "metadata": {},
          "execution_count": 27
        }
      ]
    },
    {
      "cell_type": "code",
      "source": [
        "#Last way\n",
        "links3= webpage.select(\"li.social a\")\n",
        "actual_links3 = [link['href'] for link in links]\n",
        "actual_links3"
      ],
      "metadata": {
        "colab": {
          "base_uri": "https://localhost:8080/"
        },
        "id": "GNWhkJuXiK8w",
        "outputId": "8bba33d1-e60d-4fcb-9a46-49a142a76f58"
      },
      "execution_count": null,
      "outputs": [
        {
          "output_type": "execute_result",
          "data": {
            "text/plain": [
              "['https://www.instagram.com/keithgalli/',\n",
              " 'https://twitter.com/keithgalli',\n",
              " 'https://www.linkedin.com/in/keithgalli/',\n",
              " 'https://www.tiktok.com/@keithgalli']"
            ]
          },
          "metadata": {},
          "execution_count": 28
        }
      ]
    },
    {
      "cell_type": "markdown",
      "source": [
        "2d exercice: scrape the table"
      ],
      "metadata": {
        "id": "A4lVyUKmiuH0"
      }
    },
    {
      "cell_type": "code",
      "source": [
        "#When we inspect the table on the webpage, we can see that we can grab the whole table with class_hockey stats\n",
        "table = webpage.select(\"table.hockey-stats\")[0]\n",
        "table"
      ],
      "metadata": {
        "colab": {
          "base_uri": "https://localhost:8080/"
        },
        "id": "aFqDSA0yiVW3",
        "outputId": "18873020-d5cc-4228-9d55-d7d5965b39d1"
      },
      "execution_count": null,
      "outputs": [
        {
          "output_type": "execute_result",
          "data": {
            "text/plain": [
              "<table class=\"hockey-stats\">\n",
              "<thead>\n",
              "<tr>\n",
              "<th class=\"season\" data-sort=\"\">S</th>\n",
              "<th class=\"team\" data-sort=\"team\">Team</th>\n",
              "<th class=\"league\" data-sort=\"league\">League</th>\n",
              "<th class=\"regular gp\" data-sort=\"gp\">GP</th>\n",
              "<th class=\"regular g\" data-sort=\"g\">G</th>\n",
              "<th class=\"regular a\" data-sort=\"a\">A</th>\n",
              "<th class=\"regular tp\" data-sort=\"tp\">TP</th>\n",
              "<th class=\"regular pim\" data-sort=\"pim\">PIM</th>\n",
              "<th class=\"regular pm\" data-sort=\"pm\">+/-</th>\n",
              "<th class=\"separator\"> </th>\n",
              "<th class=\"postseason\">POST</th>\n",
              "<th class=\"postseason gp\" data-sort=\"playoffs-gp\">GP</th>\n",
              "<th class=\"postseason g\" data-sort=\"playoffs-g\">G</th>\n",
              "<th class=\"postseason a\" data-sort=\"playoffs-a\">A</th>\n",
              "<th class=\"postseason tp\" data-sort=\"playoffs-tp\">TP</th>\n",
              "<th class=\"postseason pim\" data-sort=\"playoffs-pim\">PIM</th>\n",
              "<th class=\"postseason pm\" data-sort=\"playoffs-pm\">+/-</th>\n",
              "</tr>\n",
              "</thead>\n",
              "<tbody>\n",
              "<tr class=\"team-continent-NA \">\n",
              "<td class=\"season sorted\">\n",
              "                  2014-15\n",
              "              </td>\n",
              "<td class=\"team\">\n",
              "<i><img src=\"images/flag.png\"/></i>\n",
              "<span class=\"txt-blue\">\n",
              "<a href=\"https://www.eliteprospects.com/team/10263/mit-mass.-inst.-of-tech./2014-2015?tab=stats\"> MIT (Mass. Inst. of Tech.) </a>\n",
              "</span>\n",
              "</td>\n",
              "<td class=\"league\"> <a href=\"https://www.eliteprospects.com/league/acha-ii/stats/2014-2015\"> ACHA II </a> </td>\n",
              "<td class=\"regular gp\">17</td>\n",
              "<td class=\"regular g\">3</td>\n",
              "<td class=\"regular a\">9</td>\n",
              "<td class=\"regular tp\">12</td>\n",
              "<td class=\"regular pim\">20</td>\n",
              "<td class=\"regular pm\"></td>\n",
              "<td class=\"separator\"> | </td>\n",
              "<td class=\"postseason\">\n",
              "<a href=\"https://www.eliteprospects.com/league/acha-ii/stats/2014-2015\"> </a>\n",
              "</td>\n",
              "<td class=\"postseason gp\">\n",
              "</td>\n",
              "<td class=\"postseason g\">\n",
              "</td>\n",
              "<td class=\"postseason a\">\n",
              "</td>\n",
              "<td class=\"postseason tp\">\n",
              "</td>\n",
              "<td class=\"postseason pim\">\n",
              "</td>\n",
              "<td class=\"postseason pm\">\n",
              "</td>\n",
              "</tr>\n",
              "<tr class=\"team-continent-NA \">\n",
              "<td class=\"season sorted\">\n",
              "                  2015-16\n",
              "              </td>\n",
              "<td class=\"team\">\n",
              "<i><img src=\"images/flag.png\"/></i>\n",
              "<span class=\"txt-blue\">\n",
              "<a href=\"https://www.eliteprospects.com/team/10263/mit-mass.-inst.-of-tech./2015-2016?tab=stats\"> MIT (Mass. Inst. of Tech.) </a>\n",
              "</span>\n",
              "</td>\n",
              "<td class=\"league\"> <a href=\"https://www.eliteprospects.com/league/acha-ii/stats/2015-2016\"> ACHA II </a> </td>\n",
              "<td class=\"regular gp\">9</td>\n",
              "<td class=\"regular g\">1</td>\n",
              "<td class=\"regular a\">1</td>\n",
              "<td class=\"regular tp\">2</td>\n",
              "<td class=\"regular pim\">2</td>\n",
              "<td class=\"regular pm\"></td>\n",
              "<td class=\"separator\"> | </td>\n",
              "<td class=\"postseason\">\n",
              "<a href=\"https://www.eliteprospects.com/league/acha-ii/stats/2015-2016\"> </a>\n",
              "</td>\n",
              "<td class=\"postseason gp\">\n",
              "</td>\n",
              "<td class=\"postseason g\">\n",
              "</td>\n",
              "<td class=\"postseason a\">\n",
              "</td>\n",
              "<td class=\"postseason tp\">\n",
              "</td>\n",
              "<td class=\"postseason pim\">\n",
              "</td>\n",
              "<td class=\"postseason pm\">\n",
              "</td>\n",
              "</tr>\n",
              "<tr class=\"team-continent-NA \">\n",
              "<td class=\"season sorted\">\n",
              "                  2016-17\n",
              "              </td>\n",
              "<td class=\"team\">\n",
              "<i><img src=\"images/flag.png\"/></i>\n",
              "<span class=\"txt-blue\">\n",
              "<a href=\"https://www.eliteprospects.com/team/10263/mit-mass.-inst.-of-tech./2016-2017?tab=stats\"> MIT (Mass. Inst. of Tech.) </a>\n",
              "</span>\n",
              "</td>\n",
              "<td class=\"league\"> <a href=\"https://www.eliteprospects.com/league/acha-ii/stats/2016-2017\"> ACHA II </a> </td>\n",
              "<td class=\"regular gp\">12</td>\n",
              "<td class=\"regular g\">5</td>\n",
              "<td class=\"regular a\">5</td>\n",
              "<td class=\"regular tp\">10</td>\n",
              "<td class=\"regular pim\">8</td>\n",
              "<td class=\"regular pm\">0</td>\n",
              "<td class=\"separator\"> | </td>\n",
              "<td class=\"postseason\">\n",
              "</td>\n",
              "<td class=\"postseason gp\">\n",
              "</td>\n",
              "<td class=\"postseason g\">\n",
              "</td>\n",
              "<td class=\"postseason a\">\n",
              "</td>\n",
              "<td class=\"postseason tp\">\n",
              "</td>\n",
              "<td class=\"postseason pim\">\n",
              "</td>\n",
              "<td class=\"postseason pm\">\n",
              "</td>\n",
              "</tr>\n",
              "<tr class=\"team-continent-EU \">\n",
              "<td class=\"season sorted\">\n",
              "                  2017-18\n",
              "              </td>\n",
              "<td class=\"team\">\n",
              "                  Did not play\n",
              "              </td>\n",
              "<td class=\"league\"> <a href=\"https://www.eliteprospects.com/stats\"> </a> </td>\n",
              "<td class=\"regular gp\"></td>\n",
              "<td class=\"regular g\"></td>\n",
              "<td class=\"regular a\"></td>\n",
              "<td class=\"regular tp\"></td>\n",
              "<td class=\"regular pim\"></td>\n",
              "<td class=\"regular pm\"></td>\n",
              "<td class=\"separator\"> | </td>\n",
              "<td class=\"postseason\">\n",
              "<a href=\"https://www.eliteprospects.com/stats\"> </a>\n",
              "</td>\n",
              "<td class=\"postseason gp\">\n",
              "</td>\n",
              "<td class=\"postseason g\">\n",
              "</td>\n",
              "<td class=\"postseason a\">\n",
              "</td>\n",
              "<td class=\"postseason tp\">\n",
              "</td>\n",
              "<td class=\"postseason pim\">\n",
              "</td>\n",
              "<td class=\"postseason pm\">\n",
              "</td>\n",
              "</tr>\n",
              "<tr class=\"team-continent-NA \">\n",
              "<td class=\"season sorted\">\n",
              "                  2018-19\n",
              "              </td>\n",
              "<td class=\"team\">\n",
              "<i><img src=\"images/flag.png\"/></i>\n",
              "<span class=\"txt-blue\">\n",
              "<a href=\"https://www.eliteprospects.com/team/10263/mit-mass.-inst.-of-tech./2018-2019?tab=stats\"> MIT (Mass. Inst. of Tech.) </a>\n",
              "</span>\n",
              "</td>\n",
              "<td class=\"league\"> <a href=\"https://www.eliteprospects.com/league/acha-iii/stats/2018-2019\"> ACHA III </a> </td>\n",
              "<td class=\"regular gp\">8</td>\n",
              "<td class=\"regular g\">5</td>\n",
              "<td class=\"regular a\">10</td>\n",
              "<td class=\"regular tp\">15</td>\n",
              "<td class=\"regular pim\">8</td>\n",
              "<td class=\"regular pm\"></td>\n",
              "<td class=\"separator\"> | </td>\n",
              "<td class=\"postseason\">\n",
              "<a href=\"https://www.eliteprospects.com/league/acha-iii/stats/2018-2019\"> </a>\n",
              "</td>\n",
              "<td class=\"postseason gp\">\n",
              "</td>\n",
              "<td class=\"postseason g\">\n",
              "</td>\n",
              "<td class=\"postseason a\">\n",
              "</td>\n",
              "<td class=\"postseason tp\">\n",
              "</td>\n",
              "<td class=\"postseason pim\">\n",
              "</td>\n",
              "<td class=\"postseason pm\">\n",
              "</td>\n",
              "</tr>\n",
              "</tbody>\n",
              "</table>"
            ]
          },
          "metadata": {},
          "execution_count": 29
        }
      ]
    },
    {
      "cell_type": "code",
      "source": [
        "# Now we want to load this table into a pandas dataframe --> google it\n",
        "import pandas as pd\n",
        "columns = table.find('thead').find_all('th')\n",
        "columns"
      ],
      "metadata": {
        "colab": {
          "base_uri": "https://localhost:8080/"
        },
        "id": "R4JQ1ZFviTTn",
        "outputId": "66ef45ee-4f2f-447f-8c40-59250a2c9091"
      },
      "execution_count": null,
      "outputs": [
        {
          "output_type": "execute_result",
          "data": {
            "text/plain": [
              "[<th class=\"season\" data-sort=\"\">S</th>,\n",
              " <th class=\"team\" data-sort=\"team\">Team</th>,\n",
              " <th class=\"league\" data-sort=\"league\">League</th>,\n",
              " <th class=\"regular gp\" data-sort=\"gp\">GP</th>,\n",
              " <th class=\"regular g\" data-sort=\"g\">G</th>,\n",
              " <th class=\"regular a\" data-sort=\"a\">A</th>,\n",
              " <th class=\"regular tp\" data-sort=\"tp\">TP</th>,\n",
              " <th class=\"regular pim\" data-sort=\"pim\">PIM</th>,\n",
              " <th class=\"regular pm\" data-sort=\"pm\">+/-</th>,\n",
              " <th class=\"separator\"> </th>,\n",
              " <th class=\"postseason\">POST</th>,\n",
              " <th class=\"postseason gp\" data-sort=\"playoffs-gp\">GP</th>,\n",
              " <th class=\"postseason g\" data-sort=\"playoffs-g\">G</th>,\n",
              " <th class=\"postseason a\" data-sort=\"playoffs-a\">A</th>,\n",
              " <th class=\"postseason tp\" data-sort=\"playoffs-tp\">TP</th>,\n",
              " <th class=\"postseason pim\" data-sort=\"playoffs-pim\">PIM</th>,\n",
              " <th class=\"postseason pm\" data-sort=\"playoffs-pm\">+/-</th>]"
            ]
          },
          "metadata": {},
          "execution_count": 30
        }
      ]
    },
    {
      "cell_type": "code",
      "source": [
        "column_names = [c.string for c in columns]\n",
        "column_names"
      ],
      "metadata": {
        "colab": {
          "base_uri": "https://localhost:8080/"
        },
        "id": "aFt3xWz5kutB",
        "outputId": "94edea90-312b-47c8-a53a-84ebf1033bfe"
      },
      "execution_count": null,
      "outputs": [
        {
          "output_type": "execute_result",
          "data": {
            "text/plain": [
              "['S',\n",
              " 'Team',\n",
              " 'League',\n",
              " 'GP',\n",
              " 'G',\n",
              " 'A',\n",
              " 'TP',\n",
              " 'PIM',\n",
              " '+/-',\n",
              " '\\xa0',\n",
              " 'POST',\n",
              " 'GP',\n",
              " 'G',\n",
              " 'A',\n",
              " 'TP',\n",
              " 'PIM',\n",
              " '+/-']"
            ]
          },
          "metadata": {},
          "execution_count": 31
        }
      ]
    },
    {
      "cell_type": "code",
      "source": [
        "table_rows = table.find('tbody').find_all(\"tr\")\n",
        "l = []\n",
        "for tr in table_rows:\n",
        "  td = tr.find_all('td')\n",
        "  row = [str(tr.get_text()).strip() for tr in td]\n",
        "  l.append(row)\n",
        "print(l)"
      ],
      "metadata": {
        "colab": {
          "base_uri": "https://localhost:8080/"
        },
        "id": "epX9JB2mk6u0",
        "outputId": "be3e92c6-8035-4e57-e940-ea1fb466c1dd"
      },
      "execution_count": null,
      "outputs": [
        {
          "output_type": "stream",
          "name": "stdout",
          "text": [
            "[['2014-15', 'MIT (Mass. Inst. of Tech.)', 'ACHA II', '17', '3', '9', '12', '20', '', '|', '', '', '', '', '', '', ''], ['2015-16', 'MIT (Mass. Inst. of Tech.)', 'ACHA II', '9', '1', '1', '2', '2', '', '|', '', '', '', '', '', '', ''], ['2016-17', 'MIT (Mass. Inst. of Tech.)', 'ACHA II', '12', '5', '5', '10', '8', '0', '|', '', '', '', '', '', '', ''], ['2017-18', 'Did not play', '', '', '', '', '', '', '', '|', '', '', '', '', '', '', ''], ['2018-19', 'MIT (Mass. Inst. of Tech.)', 'ACHA III', '8', '5', '10', '15', '8', '', '|', '', '', '', '', '', '', '']]\n"
          ]
        }
      ]
    },
    {
      "cell_type": "code",
      "source": [
        "df = pd.DataFrame(l, columns=column_names)\n",
        "df"
      ],
      "metadata": {
        "colab": {
          "base_uri": "https://localhost:8080/",
          "height": 476
        },
        "id": "Qw1WHq7InVOu",
        "outputId": "670dec33-973d-4dee-80cb-c1506a8c094f"
      },
      "execution_count": null,
      "outputs": [
        {
          "output_type": "execute_result",
          "data": {
            "text/plain": [
              "         S                        Team    League  GP  G   A  TP PIM +/-     \\\n",
              "0  2014-15  MIT (Mass. Inst. of Tech.)   ACHA II  17  3   9  12  20      |   \n",
              "1  2015-16  MIT (Mass. Inst. of Tech.)   ACHA II   9  1   1   2   2      |   \n",
              "2  2016-17  MIT (Mass. Inst. of Tech.)   ACHA II  12  5   5  10   8   0  |   \n",
              "3  2017-18                Did not play                                   |   \n",
              "4  2018-19  MIT (Mass. Inst. of Tech.)  ACHA III   8  5  10  15   8      |   \n",
              "\n",
              "  POST GP G A TP PIM +/-  \n",
              "0                         \n",
              "1                         \n",
              "2                         \n",
              "3                         \n",
              "4                         "
            ],
            "text/html": [
              "\n",
              "  <div id=\"df-268a2b36-b894-4bd5-ae92-573819b8f919\">\n",
              "    <div class=\"colab-df-container\">\n",
              "      <div>\n",
              "<style scoped>\n",
              "    .dataframe tbody tr th:only-of-type {\n",
              "        vertical-align: middle;\n",
              "    }\n",
              "\n",
              "    .dataframe tbody tr th {\n",
              "        vertical-align: top;\n",
              "    }\n",
              "\n",
              "    .dataframe thead th {\n",
              "        text-align: right;\n",
              "    }\n",
              "</style>\n",
              "<table border=\"1\" class=\"dataframe\">\n",
              "  <thead>\n",
              "    <tr style=\"text-align: right;\">\n",
              "      <th></th>\n",
              "      <th>S</th>\n",
              "      <th>Team</th>\n",
              "      <th>League</th>\n",
              "      <th>GP</th>\n",
              "      <th>G</th>\n",
              "      <th>A</th>\n",
              "      <th>TP</th>\n",
              "      <th>PIM</th>\n",
              "      <th>+/-</th>\n",
              "      <th></th>\n",
              "      <th>POST</th>\n",
              "      <th>GP</th>\n",
              "      <th>G</th>\n",
              "      <th>A</th>\n",
              "      <th>TP</th>\n",
              "      <th>PIM</th>\n",
              "      <th>+/-</th>\n",
              "    </tr>\n",
              "  </thead>\n",
              "  <tbody>\n",
              "    <tr>\n",
              "      <th>0</th>\n",
              "      <td>2014-15</td>\n",
              "      <td>MIT (Mass. Inst. of Tech.)</td>\n",
              "      <td>ACHA II</td>\n",
              "      <td>17</td>\n",
              "      <td>3</td>\n",
              "      <td>9</td>\n",
              "      <td>12</td>\n",
              "      <td>20</td>\n",
              "      <td></td>\n",
              "      <td>|</td>\n",
              "      <td></td>\n",
              "      <td></td>\n",
              "      <td></td>\n",
              "      <td></td>\n",
              "      <td></td>\n",
              "      <td></td>\n",
              "      <td></td>\n",
              "    </tr>\n",
              "    <tr>\n",
              "      <th>1</th>\n",
              "      <td>2015-16</td>\n",
              "      <td>MIT (Mass. Inst. of Tech.)</td>\n",
              "      <td>ACHA II</td>\n",
              "      <td>9</td>\n",
              "      <td>1</td>\n",
              "      <td>1</td>\n",
              "      <td>2</td>\n",
              "      <td>2</td>\n",
              "      <td></td>\n",
              "      <td>|</td>\n",
              "      <td></td>\n",
              "      <td></td>\n",
              "      <td></td>\n",
              "      <td></td>\n",
              "      <td></td>\n",
              "      <td></td>\n",
              "      <td></td>\n",
              "    </tr>\n",
              "    <tr>\n",
              "      <th>2</th>\n",
              "      <td>2016-17</td>\n",
              "      <td>MIT (Mass. Inst. of Tech.)</td>\n",
              "      <td>ACHA II</td>\n",
              "      <td>12</td>\n",
              "      <td>5</td>\n",
              "      <td>5</td>\n",
              "      <td>10</td>\n",
              "      <td>8</td>\n",
              "      <td>0</td>\n",
              "      <td>|</td>\n",
              "      <td></td>\n",
              "      <td></td>\n",
              "      <td></td>\n",
              "      <td></td>\n",
              "      <td></td>\n",
              "      <td></td>\n",
              "      <td></td>\n",
              "    </tr>\n",
              "    <tr>\n",
              "      <th>3</th>\n",
              "      <td>2017-18</td>\n",
              "      <td>Did not play</td>\n",
              "      <td></td>\n",
              "      <td></td>\n",
              "      <td></td>\n",
              "      <td></td>\n",
              "      <td></td>\n",
              "      <td></td>\n",
              "      <td></td>\n",
              "      <td>|</td>\n",
              "      <td></td>\n",
              "      <td></td>\n",
              "      <td></td>\n",
              "      <td></td>\n",
              "      <td></td>\n",
              "      <td></td>\n",
              "      <td></td>\n",
              "    </tr>\n",
              "    <tr>\n",
              "      <th>4</th>\n",
              "      <td>2018-19</td>\n",
              "      <td>MIT (Mass. Inst. of Tech.)</td>\n",
              "      <td>ACHA III</td>\n",
              "      <td>8</td>\n",
              "      <td>5</td>\n",
              "      <td>10</td>\n",
              "      <td>15</td>\n",
              "      <td>8</td>\n",
              "      <td></td>\n",
              "      <td>|</td>\n",
              "      <td></td>\n",
              "      <td></td>\n",
              "      <td></td>\n",
              "      <td></td>\n",
              "      <td></td>\n",
              "      <td></td>\n",
              "      <td></td>\n",
              "    </tr>\n",
              "  </tbody>\n",
              "</table>\n",
              "</div>\n",
              "      <button class=\"colab-df-convert\" onclick=\"convertToInteractive('df-268a2b36-b894-4bd5-ae92-573819b8f919')\"\n",
              "              title=\"Convert this dataframe to an interactive table.\"\n",
              "              style=\"display:none;\">\n",
              "        \n",
              "  <svg xmlns=\"http://www.w3.org/2000/svg\" height=\"24px\"viewBox=\"0 0 24 24\"\n",
              "       width=\"24px\">\n",
              "    <path d=\"M0 0h24v24H0V0z\" fill=\"none\"/>\n",
              "    <path d=\"M18.56 5.44l.94 2.06.94-2.06 2.06-.94-2.06-.94-.94-2.06-.94 2.06-2.06.94zm-11 1L8.5 8.5l.94-2.06 2.06-.94-2.06-.94L8.5 2.5l-.94 2.06-2.06.94zm10 10l.94 2.06.94-2.06 2.06-.94-2.06-.94-.94-2.06-.94 2.06-2.06.94z\"/><path d=\"M17.41 7.96l-1.37-1.37c-.4-.4-.92-.59-1.43-.59-.52 0-1.04.2-1.43.59L10.3 9.45l-7.72 7.72c-.78.78-.78 2.05 0 2.83L4 21.41c.39.39.9.59 1.41.59.51 0 1.02-.2 1.41-.59l7.78-7.78 2.81-2.81c.8-.78.8-2.07 0-2.86zM5.41 20L4 18.59l7.72-7.72 1.47 1.35L5.41 20z\"/>\n",
              "  </svg>\n",
              "      </button>\n",
              "      \n",
              "  <style>\n",
              "    .colab-df-container {\n",
              "      display:flex;\n",
              "      flex-wrap:wrap;\n",
              "      gap: 12px;\n",
              "    }\n",
              "\n",
              "    .colab-df-convert {\n",
              "      background-color: #E8F0FE;\n",
              "      border: none;\n",
              "      border-radius: 50%;\n",
              "      cursor: pointer;\n",
              "      display: none;\n",
              "      fill: #1967D2;\n",
              "      height: 32px;\n",
              "      padding: 0 0 0 0;\n",
              "      width: 32px;\n",
              "    }\n",
              "\n",
              "    .colab-df-convert:hover {\n",
              "      background-color: #E2EBFA;\n",
              "      box-shadow: 0px 1px 2px rgba(60, 64, 67, 0.3), 0px 1px 3px 1px rgba(60, 64, 67, 0.15);\n",
              "      fill: #174EA6;\n",
              "    }\n",
              "\n",
              "    [theme=dark] .colab-df-convert {\n",
              "      background-color: #3B4455;\n",
              "      fill: #D2E3FC;\n",
              "    }\n",
              "\n",
              "    [theme=dark] .colab-df-convert:hover {\n",
              "      background-color: #434B5C;\n",
              "      box-shadow: 0px 1px 3px 1px rgba(0, 0, 0, 0.15);\n",
              "      filter: drop-shadow(0px 1px 2px rgba(0, 0, 0, 0.3));\n",
              "      fill: #FFFFFF;\n",
              "    }\n",
              "  </style>\n",
              "\n",
              "      <script>\n",
              "        const buttonEl =\n",
              "          document.querySelector('#df-268a2b36-b894-4bd5-ae92-573819b8f919 button.colab-df-convert');\n",
              "        buttonEl.style.display =\n",
              "          google.colab.kernel.accessAllowed ? 'block' : 'none';\n",
              "\n",
              "        async function convertToInteractive(key) {\n",
              "          const element = document.querySelector('#df-268a2b36-b894-4bd5-ae92-573819b8f919');\n",
              "          const dataTable =\n",
              "            await google.colab.kernel.invokeFunction('convertToInteractive',\n",
              "                                                     [key], {});\n",
              "          if (!dataTable) return;\n",
              "\n",
              "          const docLinkHtml = 'Like what you see? Visit the ' +\n",
              "            '<a target=\"_blank\" href=https://colab.research.google.com/notebooks/data_table.ipynb>data table notebook</a>'\n",
              "            + ' to learn more about interactive tables.';\n",
              "          element.innerHTML = '';\n",
              "          dataTable['output_type'] = 'display_data';\n",
              "          await google.colab.output.renderOutput(dataTable, element);\n",
              "          const docLink = document.createElement('div');\n",
              "          docLink.innerHTML = docLinkHtml;\n",
              "          element.appendChild(docLink);\n",
              "        }\n",
              "      </script>\n",
              "    </div>\n",
              "  </div>\n",
              "  "
            ]
          },
          "metadata": {},
          "execution_count": 33
        }
      ]
    },
    {
      "cell_type": "code",
      "source": [
        "df.head()"
      ],
      "metadata": {
        "colab": {
          "base_uri": "https://localhost:8080/",
          "height": 476
        },
        "id": "AtNuuEwUnufq",
        "outputId": "7e5620c0-bca3-40dd-a022-c22d837adf5e"
      },
      "execution_count": null,
      "outputs": [
        {
          "output_type": "execute_result",
          "data": {
            "text/plain": [
              "         S                        Team    League  GP  G   A  TP PIM +/-     \\\n",
              "0  2014-15  MIT (Mass. Inst. of Tech.)   ACHA II  17  3   9  12  20      |   \n",
              "1  2015-16  MIT (Mass. Inst. of Tech.)   ACHA II   9  1   1   2   2      |   \n",
              "2  2016-17  MIT (Mass. Inst. of Tech.)   ACHA II  12  5   5  10   8   0  |   \n",
              "3  2017-18                Did not play                                   |   \n",
              "4  2018-19  MIT (Mass. Inst. of Tech.)  ACHA III   8  5  10  15   8      |   \n",
              "\n",
              "  POST GP G A TP PIM +/-  \n",
              "0                         \n",
              "1                         \n",
              "2                         \n",
              "3                         \n",
              "4                         "
            ],
            "text/html": [
              "\n",
              "  <div id=\"df-1e991f1d-cc78-42cd-87bd-b3ae8f3e3c23\">\n",
              "    <div class=\"colab-df-container\">\n",
              "      <div>\n",
              "<style scoped>\n",
              "    .dataframe tbody tr th:only-of-type {\n",
              "        vertical-align: middle;\n",
              "    }\n",
              "\n",
              "    .dataframe tbody tr th {\n",
              "        vertical-align: top;\n",
              "    }\n",
              "\n",
              "    .dataframe thead th {\n",
              "        text-align: right;\n",
              "    }\n",
              "</style>\n",
              "<table border=\"1\" class=\"dataframe\">\n",
              "  <thead>\n",
              "    <tr style=\"text-align: right;\">\n",
              "      <th></th>\n",
              "      <th>S</th>\n",
              "      <th>Team</th>\n",
              "      <th>League</th>\n",
              "      <th>GP</th>\n",
              "      <th>G</th>\n",
              "      <th>A</th>\n",
              "      <th>TP</th>\n",
              "      <th>PIM</th>\n",
              "      <th>+/-</th>\n",
              "      <th></th>\n",
              "      <th>POST</th>\n",
              "      <th>GP</th>\n",
              "      <th>G</th>\n",
              "      <th>A</th>\n",
              "      <th>TP</th>\n",
              "      <th>PIM</th>\n",
              "      <th>+/-</th>\n",
              "    </tr>\n",
              "  </thead>\n",
              "  <tbody>\n",
              "    <tr>\n",
              "      <th>0</th>\n",
              "      <td>2014-15</td>\n",
              "      <td>MIT (Mass. Inst. of Tech.)</td>\n",
              "      <td>ACHA II</td>\n",
              "      <td>17</td>\n",
              "      <td>3</td>\n",
              "      <td>9</td>\n",
              "      <td>12</td>\n",
              "      <td>20</td>\n",
              "      <td></td>\n",
              "      <td>|</td>\n",
              "      <td></td>\n",
              "      <td></td>\n",
              "      <td></td>\n",
              "      <td></td>\n",
              "      <td></td>\n",
              "      <td></td>\n",
              "      <td></td>\n",
              "    </tr>\n",
              "    <tr>\n",
              "      <th>1</th>\n",
              "      <td>2015-16</td>\n",
              "      <td>MIT (Mass. Inst. of Tech.)</td>\n",
              "      <td>ACHA II</td>\n",
              "      <td>9</td>\n",
              "      <td>1</td>\n",
              "      <td>1</td>\n",
              "      <td>2</td>\n",
              "      <td>2</td>\n",
              "      <td></td>\n",
              "      <td>|</td>\n",
              "      <td></td>\n",
              "      <td></td>\n",
              "      <td></td>\n",
              "      <td></td>\n",
              "      <td></td>\n",
              "      <td></td>\n",
              "      <td></td>\n",
              "    </tr>\n",
              "    <tr>\n",
              "      <th>2</th>\n",
              "      <td>2016-17</td>\n",
              "      <td>MIT (Mass. Inst. of Tech.)</td>\n",
              "      <td>ACHA II</td>\n",
              "      <td>12</td>\n",
              "      <td>5</td>\n",
              "      <td>5</td>\n",
              "      <td>10</td>\n",
              "      <td>8</td>\n",
              "      <td>0</td>\n",
              "      <td>|</td>\n",
              "      <td></td>\n",
              "      <td></td>\n",
              "      <td></td>\n",
              "      <td></td>\n",
              "      <td></td>\n",
              "      <td></td>\n",
              "      <td></td>\n",
              "    </tr>\n",
              "    <tr>\n",
              "      <th>3</th>\n",
              "      <td>2017-18</td>\n",
              "      <td>Did not play</td>\n",
              "      <td></td>\n",
              "      <td></td>\n",
              "      <td></td>\n",
              "      <td></td>\n",
              "      <td></td>\n",
              "      <td></td>\n",
              "      <td></td>\n",
              "      <td>|</td>\n",
              "      <td></td>\n",
              "      <td></td>\n",
              "      <td></td>\n",
              "      <td></td>\n",
              "      <td></td>\n",
              "      <td></td>\n",
              "      <td></td>\n",
              "    </tr>\n",
              "    <tr>\n",
              "      <th>4</th>\n",
              "      <td>2018-19</td>\n",
              "      <td>MIT (Mass. Inst. of Tech.)</td>\n",
              "      <td>ACHA III</td>\n",
              "      <td>8</td>\n",
              "      <td>5</td>\n",
              "      <td>10</td>\n",
              "      <td>15</td>\n",
              "      <td>8</td>\n",
              "      <td></td>\n",
              "      <td>|</td>\n",
              "      <td></td>\n",
              "      <td></td>\n",
              "      <td></td>\n",
              "      <td></td>\n",
              "      <td></td>\n",
              "      <td></td>\n",
              "      <td></td>\n",
              "    </tr>\n",
              "  </tbody>\n",
              "</table>\n",
              "</div>\n",
              "      <button class=\"colab-df-convert\" onclick=\"convertToInteractive('df-1e991f1d-cc78-42cd-87bd-b3ae8f3e3c23')\"\n",
              "              title=\"Convert this dataframe to an interactive table.\"\n",
              "              style=\"display:none;\">\n",
              "        \n",
              "  <svg xmlns=\"http://www.w3.org/2000/svg\" height=\"24px\"viewBox=\"0 0 24 24\"\n",
              "       width=\"24px\">\n",
              "    <path d=\"M0 0h24v24H0V0z\" fill=\"none\"/>\n",
              "    <path d=\"M18.56 5.44l.94 2.06.94-2.06 2.06-.94-2.06-.94-.94-2.06-.94 2.06-2.06.94zm-11 1L8.5 8.5l.94-2.06 2.06-.94-2.06-.94L8.5 2.5l-.94 2.06-2.06.94zm10 10l.94 2.06.94-2.06 2.06-.94-2.06-.94-.94-2.06-.94 2.06-2.06.94z\"/><path d=\"M17.41 7.96l-1.37-1.37c-.4-.4-.92-.59-1.43-.59-.52 0-1.04.2-1.43.59L10.3 9.45l-7.72 7.72c-.78.78-.78 2.05 0 2.83L4 21.41c.39.39.9.59 1.41.59.51 0 1.02-.2 1.41-.59l7.78-7.78 2.81-2.81c.8-.78.8-2.07 0-2.86zM5.41 20L4 18.59l7.72-7.72 1.47 1.35L5.41 20z\"/>\n",
              "  </svg>\n",
              "      </button>\n",
              "      \n",
              "  <style>\n",
              "    .colab-df-container {\n",
              "      display:flex;\n",
              "      flex-wrap:wrap;\n",
              "      gap: 12px;\n",
              "    }\n",
              "\n",
              "    .colab-df-convert {\n",
              "      background-color: #E8F0FE;\n",
              "      border: none;\n",
              "      border-radius: 50%;\n",
              "      cursor: pointer;\n",
              "      display: none;\n",
              "      fill: #1967D2;\n",
              "      height: 32px;\n",
              "      padding: 0 0 0 0;\n",
              "      width: 32px;\n",
              "    }\n",
              "\n",
              "    .colab-df-convert:hover {\n",
              "      background-color: #E2EBFA;\n",
              "      box-shadow: 0px 1px 2px rgba(60, 64, 67, 0.3), 0px 1px 3px 1px rgba(60, 64, 67, 0.15);\n",
              "      fill: #174EA6;\n",
              "    }\n",
              "\n",
              "    [theme=dark] .colab-df-convert {\n",
              "      background-color: #3B4455;\n",
              "      fill: #D2E3FC;\n",
              "    }\n",
              "\n",
              "    [theme=dark] .colab-df-convert:hover {\n",
              "      background-color: #434B5C;\n",
              "      box-shadow: 0px 1px 3px 1px rgba(0, 0, 0, 0.15);\n",
              "      filter: drop-shadow(0px 1px 2px rgba(0, 0, 0, 0.3));\n",
              "      fill: #FFFFFF;\n",
              "    }\n",
              "  </style>\n",
              "\n",
              "      <script>\n",
              "        const buttonEl =\n",
              "          document.querySelector('#df-1e991f1d-cc78-42cd-87bd-b3ae8f3e3c23 button.colab-df-convert');\n",
              "        buttonEl.style.display =\n",
              "          google.colab.kernel.accessAllowed ? 'block' : 'none';\n",
              "\n",
              "        async function convertToInteractive(key) {\n",
              "          const element = document.querySelector('#df-1e991f1d-cc78-42cd-87bd-b3ae8f3e3c23');\n",
              "          const dataTable =\n",
              "            await google.colab.kernel.invokeFunction('convertToInteractive',\n",
              "                                                     [key], {});\n",
              "          if (!dataTable) return;\n",
              "\n",
              "          const docLinkHtml = 'Like what you see? Visit the ' +\n",
              "            '<a target=\"_blank\" href=https://colab.research.google.com/notebooks/data_table.ipynb>data table notebook</a>'\n",
              "            + ' to learn more about interactive tables.';\n",
              "          element.innerHTML = '';\n",
              "          dataTable['output_type'] = 'display_data';\n",
              "          await google.colab.output.renderOutput(dataTable, element);\n",
              "          const docLink = document.createElement('div');\n",
              "          docLink.innerHTML = docLinkHtml;\n",
              "          element.appendChild(docLink);\n",
              "        }\n",
              "      </script>\n",
              "    </div>\n",
              "  </div>\n",
              "  "
            ]
          },
          "metadata": {},
          "execution_count": 34
        }
      ]
    },
    {
      "cell_type": "code",
      "source": [
        "df.loc[df['Team'] != \"Did not play\"]  # To filter the not played"
      ],
      "metadata": {
        "colab": {
          "base_uri": "https://localhost:8080/",
          "height": 427
        },
        "id": "AIMivyOZpS3D",
        "outputId": "3150a130-f1d1-46e0-deb5-16c66e291a7f"
      },
      "execution_count": null,
      "outputs": [
        {
          "output_type": "execute_result",
          "data": {
            "text/plain": [
              "         S                        Team    League  GP  G   A  TP PIM +/-     \\\n",
              "0  2014-15  MIT (Mass. Inst. of Tech.)   ACHA II  17  3   9  12  20      |   \n",
              "1  2015-16  MIT (Mass. Inst. of Tech.)   ACHA II   9  1   1   2   2      |   \n",
              "2  2016-17  MIT (Mass. Inst. of Tech.)   ACHA II  12  5   5  10   8   0  |   \n",
              "4  2018-19  MIT (Mass. Inst. of Tech.)  ACHA III   8  5  10  15   8      |   \n",
              "\n",
              "  POST GP G A TP PIM +/-  \n",
              "0                         \n",
              "1                         \n",
              "2                         \n",
              "4                         "
            ],
            "text/html": [
              "\n",
              "  <div id=\"df-6ea5020a-a5ce-4bc2-b239-6a6c8fbd4da9\">\n",
              "    <div class=\"colab-df-container\">\n",
              "      <div>\n",
              "<style scoped>\n",
              "    .dataframe tbody tr th:only-of-type {\n",
              "        vertical-align: middle;\n",
              "    }\n",
              "\n",
              "    .dataframe tbody tr th {\n",
              "        vertical-align: top;\n",
              "    }\n",
              "\n",
              "    .dataframe thead th {\n",
              "        text-align: right;\n",
              "    }\n",
              "</style>\n",
              "<table border=\"1\" class=\"dataframe\">\n",
              "  <thead>\n",
              "    <tr style=\"text-align: right;\">\n",
              "      <th></th>\n",
              "      <th>S</th>\n",
              "      <th>Team</th>\n",
              "      <th>League</th>\n",
              "      <th>GP</th>\n",
              "      <th>G</th>\n",
              "      <th>A</th>\n",
              "      <th>TP</th>\n",
              "      <th>PIM</th>\n",
              "      <th>+/-</th>\n",
              "      <th></th>\n",
              "      <th>POST</th>\n",
              "      <th>GP</th>\n",
              "      <th>G</th>\n",
              "      <th>A</th>\n",
              "      <th>TP</th>\n",
              "      <th>PIM</th>\n",
              "      <th>+/-</th>\n",
              "    </tr>\n",
              "  </thead>\n",
              "  <tbody>\n",
              "    <tr>\n",
              "      <th>0</th>\n",
              "      <td>2014-15</td>\n",
              "      <td>MIT (Mass. Inst. of Tech.)</td>\n",
              "      <td>ACHA II</td>\n",
              "      <td>17</td>\n",
              "      <td>3</td>\n",
              "      <td>9</td>\n",
              "      <td>12</td>\n",
              "      <td>20</td>\n",
              "      <td></td>\n",
              "      <td>|</td>\n",
              "      <td></td>\n",
              "      <td></td>\n",
              "      <td></td>\n",
              "      <td></td>\n",
              "      <td></td>\n",
              "      <td></td>\n",
              "      <td></td>\n",
              "    </tr>\n",
              "    <tr>\n",
              "      <th>1</th>\n",
              "      <td>2015-16</td>\n",
              "      <td>MIT (Mass. Inst. of Tech.)</td>\n",
              "      <td>ACHA II</td>\n",
              "      <td>9</td>\n",
              "      <td>1</td>\n",
              "      <td>1</td>\n",
              "      <td>2</td>\n",
              "      <td>2</td>\n",
              "      <td></td>\n",
              "      <td>|</td>\n",
              "      <td></td>\n",
              "      <td></td>\n",
              "      <td></td>\n",
              "      <td></td>\n",
              "      <td></td>\n",
              "      <td></td>\n",
              "      <td></td>\n",
              "    </tr>\n",
              "    <tr>\n",
              "      <th>2</th>\n",
              "      <td>2016-17</td>\n",
              "      <td>MIT (Mass. Inst. of Tech.)</td>\n",
              "      <td>ACHA II</td>\n",
              "      <td>12</td>\n",
              "      <td>5</td>\n",
              "      <td>5</td>\n",
              "      <td>10</td>\n",
              "      <td>8</td>\n",
              "      <td>0</td>\n",
              "      <td>|</td>\n",
              "      <td></td>\n",
              "      <td></td>\n",
              "      <td></td>\n",
              "      <td></td>\n",
              "      <td></td>\n",
              "      <td></td>\n",
              "      <td></td>\n",
              "    </tr>\n",
              "    <tr>\n",
              "      <th>4</th>\n",
              "      <td>2018-19</td>\n",
              "      <td>MIT (Mass. Inst. of Tech.)</td>\n",
              "      <td>ACHA III</td>\n",
              "      <td>8</td>\n",
              "      <td>5</td>\n",
              "      <td>10</td>\n",
              "      <td>15</td>\n",
              "      <td>8</td>\n",
              "      <td></td>\n",
              "      <td>|</td>\n",
              "      <td></td>\n",
              "      <td></td>\n",
              "      <td></td>\n",
              "      <td></td>\n",
              "      <td></td>\n",
              "      <td></td>\n",
              "      <td></td>\n",
              "    </tr>\n",
              "  </tbody>\n",
              "</table>\n",
              "</div>\n",
              "      <button class=\"colab-df-convert\" onclick=\"convertToInteractive('df-6ea5020a-a5ce-4bc2-b239-6a6c8fbd4da9')\"\n",
              "              title=\"Convert this dataframe to an interactive table.\"\n",
              "              style=\"display:none;\">\n",
              "        \n",
              "  <svg xmlns=\"http://www.w3.org/2000/svg\" height=\"24px\"viewBox=\"0 0 24 24\"\n",
              "       width=\"24px\">\n",
              "    <path d=\"M0 0h24v24H0V0z\" fill=\"none\"/>\n",
              "    <path d=\"M18.56 5.44l.94 2.06.94-2.06 2.06-.94-2.06-.94-.94-2.06-.94 2.06-2.06.94zm-11 1L8.5 8.5l.94-2.06 2.06-.94-2.06-.94L8.5 2.5l-.94 2.06-2.06.94zm10 10l.94 2.06.94-2.06 2.06-.94-2.06-.94-.94-2.06-.94 2.06-2.06.94z\"/><path d=\"M17.41 7.96l-1.37-1.37c-.4-.4-.92-.59-1.43-.59-.52 0-1.04.2-1.43.59L10.3 9.45l-7.72 7.72c-.78.78-.78 2.05 0 2.83L4 21.41c.39.39.9.59 1.41.59.51 0 1.02-.2 1.41-.59l7.78-7.78 2.81-2.81c.8-.78.8-2.07 0-2.86zM5.41 20L4 18.59l7.72-7.72 1.47 1.35L5.41 20z\"/>\n",
              "  </svg>\n",
              "      </button>\n",
              "      \n",
              "  <style>\n",
              "    .colab-df-container {\n",
              "      display:flex;\n",
              "      flex-wrap:wrap;\n",
              "      gap: 12px;\n",
              "    }\n",
              "\n",
              "    .colab-df-convert {\n",
              "      background-color: #E8F0FE;\n",
              "      border: none;\n",
              "      border-radius: 50%;\n",
              "      cursor: pointer;\n",
              "      display: none;\n",
              "      fill: #1967D2;\n",
              "      height: 32px;\n",
              "      padding: 0 0 0 0;\n",
              "      width: 32px;\n",
              "    }\n",
              "\n",
              "    .colab-df-convert:hover {\n",
              "      background-color: #E2EBFA;\n",
              "      box-shadow: 0px 1px 2px rgba(60, 64, 67, 0.3), 0px 1px 3px 1px rgba(60, 64, 67, 0.15);\n",
              "      fill: #174EA6;\n",
              "    }\n",
              "\n",
              "    [theme=dark] .colab-df-convert {\n",
              "      background-color: #3B4455;\n",
              "      fill: #D2E3FC;\n",
              "    }\n",
              "\n",
              "    [theme=dark] .colab-df-convert:hover {\n",
              "      background-color: #434B5C;\n",
              "      box-shadow: 0px 1px 3px 1px rgba(0, 0, 0, 0.15);\n",
              "      filter: drop-shadow(0px 1px 2px rgba(0, 0, 0, 0.3));\n",
              "      fill: #FFFFFF;\n",
              "    }\n",
              "  </style>\n",
              "\n",
              "      <script>\n",
              "        const buttonEl =\n",
              "          document.querySelector('#df-6ea5020a-a5ce-4bc2-b239-6a6c8fbd4da9 button.colab-df-convert');\n",
              "        buttonEl.style.display =\n",
              "          google.colab.kernel.accessAllowed ? 'block' : 'none';\n",
              "\n",
              "        async function convertToInteractive(key) {\n",
              "          const element = document.querySelector('#df-6ea5020a-a5ce-4bc2-b239-6a6c8fbd4da9');\n",
              "          const dataTable =\n",
              "            await google.colab.kernel.invokeFunction('convertToInteractive',\n",
              "                                                     [key], {});\n",
              "          if (!dataTable) return;\n",
              "\n",
              "          const docLinkHtml = 'Like what you see? Visit the ' +\n",
              "            '<a target=\"_blank\" href=https://colab.research.google.com/notebooks/data_table.ipynb>data table notebook</a>'\n",
              "            + ' to learn more about interactive tables.';\n",
              "          element.innerHTML = '';\n",
              "          dataTable['output_type'] = 'display_data';\n",
              "          await google.colab.output.renderOutput(dataTable, element);\n",
              "          const docLink = document.createElement('div');\n",
              "          docLink.innerHTML = docLinkHtml;\n",
              "          element.appendChild(docLink);\n",
              "        }\n",
              "      </script>\n",
              "    </div>\n",
              "  </div>\n",
              "  "
            ]
          },
          "metadata": {},
          "execution_count": 35
        }
      ]
    },
    {
      "cell_type": "code",
      "source": [
        "df.style.set_caption(\"Hello World\")\n",
        "df"
      ],
      "metadata": {
        "colab": {
          "base_uri": "https://localhost:8080/",
          "height": 476
        },
        "id": "FtEwXvck_Odm",
        "outputId": "05462eae-d263-4f58-a9e5-d48e009a7ffe"
      },
      "execution_count": null,
      "outputs": [
        {
          "output_type": "execute_result",
          "data": {
            "text/plain": [
              "         S                        Team    League  GP  G   A  TP PIM +/-     \\\n",
              "0  2014-15  MIT (Mass. Inst. of Tech.)   ACHA II  17  3   9  12  20      |   \n",
              "1  2015-16  MIT (Mass. Inst. of Tech.)   ACHA II   9  1   1   2   2      |   \n",
              "2  2016-17  MIT (Mass. Inst. of Tech.)   ACHA II  12  5   5  10   8   0  |   \n",
              "3  2017-18                Did not play                                   |   \n",
              "4  2018-19  MIT (Mass. Inst. of Tech.)  ACHA III   8  5  10  15   8      |   \n",
              "\n",
              "  POST GP G A TP PIM +/-  \n",
              "0                         \n",
              "1                         \n",
              "2                         \n",
              "3                         \n",
              "4                         "
            ],
            "text/html": [
              "\n",
              "  <div id=\"df-8926f12b-2c5f-45a5-b23e-3ad5b87154a8\">\n",
              "    <div class=\"colab-df-container\">\n",
              "      <div>\n",
              "<style scoped>\n",
              "    .dataframe tbody tr th:only-of-type {\n",
              "        vertical-align: middle;\n",
              "    }\n",
              "\n",
              "    .dataframe tbody tr th {\n",
              "        vertical-align: top;\n",
              "    }\n",
              "\n",
              "    .dataframe thead th {\n",
              "        text-align: right;\n",
              "    }\n",
              "</style>\n",
              "<table border=\"1\" class=\"dataframe\">\n",
              "  <thead>\n",
              "    <tr style=\"text-align: right;\">\n",
              "      <th></th>\n",
              "      <th>S</th>\n",
              "      <th>Team</th>\n",
              "      <th>League</th>\n",
              "      <th>GP</th>\n",
              "      <th>G</th>\n",
              "      <th>A</th>\n",
              "      <th>TP</th>\n",
              "      <th>PIM</th>\n",
              "      <th>+/-</th>\n",
              "      <th></th>\n",
              "      <th>POST</th>\n",
              "      <th>GP</th>\n",
              "      <th>G</th>\n",
              "      <th>A</th>\n",
              "      <th>TP</th>\n",
              "      <th>PIM</th>\n",
              "      <th>+/-</th>\n",
              "    </tr>\n",
              "  </thead>\n",
              "  <tbody>\n",
              "    <tr>\n",
              "      <th>0</th>\n",
              "      <td>2014-15</td>\n",
              "      <td>MIT (Mass. Inst. of Tech.)</td>\n",
              "      <td>ACHA II</td>\n",
              "      <td>17</td>\n",
              "      <td>3</td>\n",
              "      <td>9</td>\n",
              "      <td>12</td>\n",
              "      <td>20</td>\n",
              "      <td></td>\n",
              "      <td>|</td>\n",
              "      <td></td>\n",
              "      <td></td>\n",
              "      <td></td>\n",
              "      <td></td>\n",
              "      <td></td>\n",
              "      <td></td>\n",
              "      <td></td>\n",
              "    </tr>\n",
              "    <tr>\n",
              "      <th>1</th>\n",
              "      <td>2015-16</td>\n",
              "      <td>MIT (Mass. Inst. of Tech.)</td>\n",
              "      <td>ACHA II</td>\n",
              "      <td>9</td>\n",
              "      <td>1</td>\n",
              "      <td>1</td>\n",
              "      <td>2</td>\n",
              "      <td>2</td>\n",
              "      <td></td>\n",
              "      <td>|</td>\n",
              "      <td></td>\n",
              "      <td></td>\n",
              "      <td></td>\n",
              "      <td></td>\n",
              "      <td></td>\n",
              "      <td></td>\n",
              "      <td></td>\n",
              "    </tr>\n",
              "    <tr>\n",
              "      <th>2</th>\n",
              "      <td>2016-17</td>\n",
              "      <td>MIT (Mass. Inst. of Tech.)</td>\n",
              "      <td>ACHA II</td>\n",
              "      <td>12</td>\n",
              "      <td>5</td>\n",
              "      <td>5</td>\n",
              "      <td>10</td>\n",
              "      <td>8</td>\n",
              "      <td>0</td>\n",
              "      <td>|</td>\n",
              "      <td></td>\n",
              "      <td></td>\n",
              "      <td></td>\n",
              "      <td></td>\n",
              "      <td></td>\n",
              "      <td></td>\n",
              "      <td></td>\n",
              "    </tr>\n",
              "    <tr>\n",
              "      <th>3</th>\n",
              "      <td>2017-18</td>\n",
              "      <td>Did not play</td>\n",
              "      <td></td>\n",
              "      <td></td>\n",
              "      <td></td>\n",
              "      <td></td>\n",
              "      <td></td>\n",
              "      <td></td>\n",
              "      <td></td>\n",
              "      <td>|</td>\n",
              "      <td></td>\n",
              "      <td></td>\n",
              "      <td></td>\n",
              "      <td></td>\n",
              "      <td></td>\n",
              "      <td></td>\n",
              "      <td></td>\n",
              "    </tr>\n",
              "    <tr>\n",
              "      <th>4</th>\n",
              "      <td>2018-19</td>\n",
              "      <td>MIT (Mass. Inst. of Tech.)</td>\n",
              "      <td>ACHA III</td>\n",
              "      <td>8</td>\n",
              "      <td>5</td>\n",
              "      <td>10</td>\n",
              "      <td>15</td>\n",
              "      <td>8</td>\n",
              "      <td></td>\n",
              "      <td>|</td>\n",
              "      <td></td>\n",
              "      <td></td>\n",
              "      <td></td>\n",
              "      <td></td>\n",
              "      <td></td>\n",
              "      <td></td>\n",
              "      <td></td>\n",
              "    </tr>\n",
              "  </tbody>\n",
              "</table>\n",
              "</div>\n",
              "      <button class=\"colab-df-convert\" onclick=\"convertToInteractive('df-8926f12b-2c5f-45a5-b23e-3ad5b87154a8')\"\n",
              "              title=\"Convert this dataframe to an interactive table.\"\n",
              "              style=\"display:none;\">\n",
              "        \n",
              "  <svg xmlns=\"http://www.w3.org/2000/svg\" height=\"24px\"viewBox=\"0 0 24 24\"\n",
              "       width=\"24px\">\n",
              "    <path d=\"M0 0h24v24H0V0z\" fill=\"none\"/>\n",
              "    <path d=\"M18.56 5.44l.94 2.06.94-2.06 2.06-.94-2.06-.94-.94-2.06-.94 2.06-2.06.94zm-11 1L8.5 8.5l.94-2.06 2.06-.94-2.06-.94L8.5 2.5l-.94 2.06-2.06.94zm10 10l.94 2.06.94-2.06 2.06-.94-2.06-.94-.94-2.06-.94 2.06-2.06.94z\"/><path d=\"M17.41 7.96l-1.37-1.37c-.4-.4-.92-.59-1.43-.59-.52 0-1.04.2-1.43.59L10.3 9.45l-7.72 7.72c-.78.78-.78 2.05 0 2.83L4 21.41c.39.39.9.59 1.41.59.51 0 1.02-.2 1.41-.59l7.78-7.78 2.81-2.81c.8-.78.8-2.07 0-2.86zM5.41 20L4 18.59l7.72-7.72 1.47 1.35L5.41 20z\"/>\n",
              "  </svg>\n",
              "      </button>\n",
              "      \n",
              "  <style>\n",
              "    .colab-df-container {\n",
              "      display:flex;\n",
              "      flex-wrap:wrap;\n",
              "      gap: 12px;\n",
              "    }\n",
              "\n",
              "    .colab-df-convert {\n",
              "      background-color: #E8F0FE;\n",
              "      border: none;\n",
              "      border-radius: 50%;\n",
              "      cursor: pointer;\n",
              "      display: none;\n",
              "      fill: #1967D2;\n",
              "      height: 32px;\n",
              "      padding: 0 0 0 0;\n",
              "      width: 32px;\n",
              "    }\n",
              "\n",
              "    .colab-df-convert:hover {\n",
              "      background-color: #E2EBFA;\n",
              "      box-shadow: 0px 1px 2px rgba(60, 64, 67, 0.3), 0px 1px 3px 1px rgba(60, 64, 67, 0.15);\n",
              "      fill: #174EA6;\n",
              "    }\n",
              "\n",
              "    [theme=dark] .colab-df-convert {\n",
              "      background-color: #3B4455;\n",
              "      fill: #D2E3FC;\n",
              "    }\n",
              "\n",
              "    [theme=dark] .colab-df-convert:hover {\n",
              "      background-color: #434B5C;\n",
              "      box-shadow: 0px 1px 3px 1px rgba(0, 0, 0, 0.15);\n",
              "      filter: drop-shadow(0px 1px 2px rgba(0, 0, 0, 0.3));\n",
              "      fill: #FFFFFF;\n",
              "    }\n",
              "  </style>\n",
              "\n",
              "      <script>\n",
              "        const buttonEl =\n",
              "          document.querySelector('#df-8926f12b-2c5f-45a5-b23e-3ad5b87154a8 button.colab-df-convert');\n",
              "        buttonEl.style.display =\n",
              "          google.colab.kernel.accessAllowed ? 'block' : 'none';\n",
              "\n",
              "        async function convertToInteractive(key) {\n",
              "          const element = document.querySelector('#df-8926f12b-2c5f-45a5-b23e-3ad5b87154a8');\n",
              "          const dataTable =\n",
              "            await google.colab.kernel.invokeFunction('convertToInteractive',\n",
              "                                                     [key], {});\n",
              "          if (!dataTable) return;\n",
              "\n",
              "          const docLinkHtml = 'Like what you see? Visit the ' +\n",
              "            '<a target=\"_blank\" href=https://colab.research.google.com/notebooks/data_table.ipynb>data table notebook</a>'\n",
              "            + ' to learn more about interactive tables.';\n",
              "          element.innerHTML = '';\n",
              "          dataTable['output_type'] = 'display_data';\n",
              "          await google.colab.output.renderOutput(dataTable, element);\n",
              "          const docLink = document.createElement('div');\n",
              "          docLink.innerHTML = docLinkHtml;\n",
              "          element.appendChild(docLink);\n",
              "        }\n",
              "      </script>\n",
              "    </div>\n",
              "  </div>\n",
              "  "
            ]
          },
          "metadata": {},
          "execution_count": 36
        }
      ]
    },
    {
      "cell_type": "markdown",
      "source": [
        "Exercice, find all fun facts that use the word \"is\""
      ],
      "metadata": {
        "id": "r1uLRxnXvd-r"
      }
    },
    {
      "cell_type": "code",
      "source": [
        "facts = webpage.select(\"ul.fun-facts li\")\n",
        "facts"
      ],
      "metadata": {
        "colab": {
          "base_uri": "https://localhost:8080/"
        },
        "id": "y8A314bxvhlR",
        "outputId": "7c30d1ab-75b2-4cf3-be7d-6f67939dc034"
      },
      "execution_count": null,
      "outputs": [
        {
          "output_type": "execute_result",
          "data": {
            "text/plain": [
              "[<li>Owned my dream car in high school <a href=\"#footer\"><sup>1</sup></a></li>,\n",
              " <li>Middle name is Ronald</li>,\n",
              " <li>Never had been on a plane until college</li>,\n",
              " <li>Dunkin Donuts coffee is better than Starbucks</li>,\n",
              " <li>A favorite book series of mine is <i>Ender's Game</i></li>,\n",
              " <li>Current video game of choice is <i>Rocket League</i></li>,\n",
              " <li>The band that I've seen the most times live is the <i>Zac Brown Band</i></li>]"
            ]
          },
          "metadata": {},
          "execution_count": 104
        }
      ]
    },
    {
      "cell_type": "code",
      "source": [
        "facts_with = [fact.find_all(string=re.compile(\"is\")) for fact in facts]\n",
        "facts_with"
      ],
      "metadata": {
        "colab": {
          "base_uri": "https://localhost:8080/"
        },
        "id": "ixUIuWPgvrV-",
        "outputId": "0f7c4d39-0082-4574-f9f6-efe83a2ce2e3"
      },
      "execution_count": null,
      "outputs": [
        {
          "output_type": "execute_result",
          "data": {
            "text/plain": [
              "[[],\n",
              " ['Middle name is Ronald'],\n",
              " [],\n",
              " ['Dunkin Donuts coffee is better than Starbucks'],\n",
              " ['A favorite book series of mine is '],\n",
              " ['Current video game of choice is '],\n",
              " [\"The band that I've seen the most times live is the \"]]"
            ]
          },
          "metadata": {},
          "execution_count": 109
        }
      ]
    }
  ]
}